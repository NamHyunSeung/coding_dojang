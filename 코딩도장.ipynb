{
  "nbformat": 4,
  "nbformat_minor": 0,
  "metadata": {
    "colab": {
      "provenance": [],
      "authorship_tag": "ABX9TyPjdMe9nzN/e9IMjl6zGrFU",
      "include_colab_link": true
    },
    "kernelspec": {
      "name": "python3",
      "display_name": "Python 3"
    },
    "language_info": {
      "name": "python"
    }
  },
  "cells": [
    {
      "cell_type": "markdown",
      "metadata": {
        "id": "view-in-github",
        "colab_type": "text"
      },
      "source": [
        "<a href=\"https://colab.research.google.com/github/NamHyunSeung/coding_dojang/blob/main/%EC%BD%94%EB%94%A9%EB%8F%84%EC%9E%A5.ipynb\" target=\"_parent\"><img src=\"https://colab.research.google.com/assets/colab-badge.svg\" alt=\"Open In Colab\"/></a>"
      ]
    },
    {
      "cell_type": "markdown",
      "source": [
        "# unit 3"
      ],
      "metadata": {
        "id": "1JF1p9sAgQJ9"
      }
    },
    {
      "cell_type": "code",
      "execution_count": null,
      "metadata": {
        "colab": {
          "base_uri": "https://localhost:8080/"
        },
        "id": "9Z6HE-9qdQhn",
        "outputId": "971e91aa-c504-4f7b-944b-8661290c1adf"
      },
      "outputs": [
        {
          "output_type": "stream",
          "name": "stdout",
          "text": [
            "Hello, world!\n",
            "Hello, world!\n"
          ]
        }
      ],
      "source": [
        "print(\"Hello, world!\") #출력\n",
        "print(\"Hello, world!\")\n"
      ]
    },
    {
      "cell_type": "code",
      "source": [
        "print('Hello, world!')"
      ],
      "metadata": {
        "colab": {
          "base_uri": "https://localhost:8080/"
        },
        "id": "fGWu1USIf3VB",
        "outputId": "d5dfdbdf-94f0-461d-bc45-ab898cd9aa47"
      },
      "execution_count": null,
      "outputs": [
        {
          "output_type": "stream",
          "name": "stdout",
          "text": [
            "Hello, world!\n"
          ]
        }
      ]
    },
    {
      "cell_type": "code",
      "source": [
        "print('Hello, Python')"
      ],
      "metadata": {
        "colab": {
          "base_uri": "https://localhost:8080/"
        },
        "id": "vWQm5mregliA",
        "outputId": "61770209-81c6-4224-fe2a-bd4284368c59"
      },
      "execution_count": null,
      "outputs": [
        {
          "output_type": "stream",
          "name": "stdout",
          "text": [
            "Hello, Python\n"
          ]
        }
      ]
    },
    {
      "cell_type": "code",
      "source": [
        "#3.7 연습문제\n",
        "print('Hello, world!')\n",
        "print('Python Programming')"
      ],
      "metadata": {
        "colab": {
          "base_uri": "https://localhost:8080/"
        },
        "id": "ANc8fKUfglw1",
        "outputId": "4f6558ee-6dc0-4357-fb4a-f5f71bf16c62"
      },
      "execution_count": null,
      "outputs": [
        {
          "output_type": "stream",
          "name": "stdout",
          "text": [
            "Hello, world!\n",
            "Python Programming\n"
          ]
        }
      ]
    },
    {
      "cell_type": "code",
      "source": [
        "#3.8 심사문제\n",
        "print(\"Hello, world!\")\n",
        "print(\"Hello, world!\")"
      ],
      "metadata": {
        "id": "6HqlzMvtlpnD"
      },
      "execution_count": null,
      "outputs": []
    },
    {
      "cell_type": "markdown",
      "source": [
        "# unit 4"
      ],
      "metadata": {
        "id": "V8mZSxMghAjQ"
      }
    },
    {
      "cell_type": "code",
      "source": [
        "print('Hello'); print('1234') #굳이 세미콜론을 붙혀야 하지는 않음"
      ],
      "metadata": {
        "colab": {
          "base_uri": "https://localhost:8080/"
        },
        "id": "jf4TSfvlglz0",
        "outputId": "4eb562b9-e4f4-4301-d69e-654511a7c331"
      },
      "execution_count": null,
      "outputs": [
        {
          "output_type": "stream",
          "name": "stdout",
          "text": [
            "Hello\n",
            "1234\n"
          ]
        }
      ]
    },
    {
      "cell_type": "code",
      "source": [
        "a = 1 + 2 # 더하기\n",
        "print('Hello, world!') #print('1234567890') 주석은 작동이 안됨"
      ],
      "metadata": {
        "colab": {
          "base_uri": "https://localhost:8080/"
        },
        "id": "KCtsvD_DhIwb",
        "outputId": "deb06d13-dd20-4a7f-e6e1-1e4408572a76"
      },
      "execution_count": null,
      "outputs": [
        {
          "output_type": "stream",
          "name": "stdout",
          "text": [
            "Hello, world!\n"
          ]
        }
      ]
    },
    {
      "cell_type": "code",
      "source": [
        "a=10\n",
        "if a == 10:\n",
        "     print('10입니다.') #들여쓰기는 아주 중요함"
      ],
      "metadata": {
        "colab": {
          "base_uri": "https://localhost:8080/"
        },
        "id": "PplSdE9nhIyq",
        "outputId": "2be8ece2-e3cc-4d24-ec1a-2e7a6f8deb30"
      },
      "execution_count": null,
      "outputs": [
        {
          "output_type": "stream",
          "name": "stdout",
          "text": [
            "10입니다.\n"
          ]
        }
      ]
    },
    {
      "cell_type": "markdown",
      "source": [
        "# unit 5"
      ],
      "metadata": {
        "id": "fSB_-ZlKh7Zo"
      }
    },
    {
      "cell_type": "code",
      "source": [
        "1+1 #그냥 계산이 됨"
      ],
      "metadata": {
        "colab": {
          "base_uri": "https://localhost:8080/"
        },
        "id": "VLexi_D7hI00",
        "outputId": "872af8af-d9b5-4e9d-d63d-77edba613318"
      },
      "execution_count": null,
      "outputs": [
        {
          "output_type": "execute_result",
          "data": {
            "text/plain": [
              "2"
            ]
          },
          "metadata": {},
          "execution_count": 16
        }
      ]
    },
    {
      "cell_type": "code",
      "source": [
        "1-2"
      ],
      "metadata": {
        "id": "JSF6RJHiiHZ1",
        "colab": {
          "base_uri": "https://localhost:8080/"
        },
        "outputId": "51826dbb-007e-49c6-ccc1-9e3ffdbafbbb"
      },
      "execution_count": null,
      "outputs": [
        {
          "output_type": "execute_result",
          "data": {
            "text/plain": [
              "-1"
            ]
          },
          "metadata": {},
          "execution_count": 1
        }
      ]
    },
    {
      "cell_type": "code",
      "source": [
        "2*2"
      ],
      "metadata": {
        "id": "fFitHtyPiV2P",
        "colab": {
          "base_uri": "https://localhost:8080/"
        },
        "outputId": "f330351a-bb1b-4039-851f-61d2f8c55ca5"
      },
      "execution_count": null,
      "outputs": [
        {
          "output_type": "execute_result",
          "data": {
            "text/plain": [
              "4"
            ]
          },
          "metadata": {},
          "execution_count": 2
        }
      ]
    },
    {
      "cell_type": "code",
      "source": [
        "5/2 #정수끼리 계산을 해도 실수가 나옴"
      ],
      "metadata": {
        "id": "POxMhb19iV9g",
        "colab": {
          "base_uri": "https://localhost:8080/"
        },
        "outputId": "290c582c-62e7-41fb-8032-95567aae70e0"
      },
      "execution_count": null,
      "outputs": [
        {
          "output_type": "execute_result",
          "data": {
            "text/plain": [
              "2.5"
            ]
          },
          "metadata": {},
          "execution_count": 3
        }
      ]
    },
    {
      "cell_type": "code",
      "source": [
        "4/2 #나누기는 언제나 실수로 나옴"
      ],
      "metadata": {
        "id": "d3KPwpqTiWBS",
        "colab": {
          "base_uri": "https://localhost:8080/"
        },
        "outputId": "426f178e-ee41-43bd-a45e-0d3baf2fc8be"
      },
      "execution_count": null,
      "outputs": [
        {
          "output_type": "execute_result",
          "data": {
            "text/plain": [
              "2.0"
            ]
          },
          "metadata": {},
          "execution_count": 4
        }
      ]
    },
    {
      "cell_type": "code",
      "source": [
        "5//2"
      ],
      "metadata": {
        "id": "l-LvQxXpiWET",
        "colab": {
          "base_uri": "https://localhost:8080/"
        },
        "outputId": "bac2ea77-1fe6-4135-bd2c-69109e2c1dbb"
      },
      "execution_count": null,
      "outputs": [
        {
          "output_type": "execute_result",
          "data": {
            "text/plain": [
              "2"
            ]
          },
          "metadata": {},
          "execution_count": 5
        }
      ]
    },
    {
      "cell_type": "code",
      "source": [
        "4//2"
      ],
      "metadata": {
        "id": "eFcaZ1HgihMc",
        "colab": {
          "base_uri": "https://localhost:8080/"
        },
        "outputId": "7c440fe4-b6aa-4dd1-f1b9-94d3ebe773af"
      },
      "execution_count": null,
      "outputs": [
        {
          "output_type": "execute_result",
          "data": {
            "text/plain": [
              "2"
            ]
          },
          "metadata": {},
          "execution_count": 6
        }
      ]
    },
    {
      "cell_type": "code",
      "source": [
        "5.5//2 #실수랑 정수랑 계산하면 답은 실수로 나옴"
      ],
      "metadata": {
        "id": "KYNzj8JaihOu",
        "colab": {
          "base_uri": "https://localhost:8080/"
        },
        "outputId": "ccb0ca03-bcce-4ea8-c22c-a1bd882051a8"
      },
      "execution_count": null,
      "outputs": [
        {
          "output_type": "execute_result",
          "data": {
            "text/plain": [
              "2.0"
            ]
          },
          "metadata": {},
          "execution_count": 7
        }
      ]
    },
    {
      "cell_type": "code",
      "source": [
        "4//2.0"
      ],
      "metadata": {
        "id": "NjtrnZ9iihRL",
        "colab": {
          "base_uri": "https://localhost:8080/"
        },
        "outputId": "e3415763-34a7-4e00-b717-8b5d5b670099"
      },
      "execution_count": null,
      "outputs": [
        {
          "output_type": "execute_result",
          "data": {
            "text/plain": [
              "2.0"
            ]
          },
          "metadata": {},
          "execution_count": 8
        }
      ]
    },
    {
      "cell_type": "code",
      "source": [
        "4.1//2.1"
      ],
      "metadata": {
        "id": "ip6fuVfiihS9",
        "colab": {
          "base_uri": "https://localhost:8080/"
        },
        "outputId": "99cd482d-97d3-4281-90c7-082c3c873e5b"
      },
      "execution_count": null,
      "outputs": [
        {
          "output_type": "execute_result",
          "data": {
            "text/plain": [
              "1.0"
            ]
          },
          "metadata": {},
          "execution_count": 9
        }
      ]
    },
    {
      "cell_type": "code",
      "source": [
        "5%2"
      ],
      "metadata": {
        "colab": {
          "base_uri": "https://localhost:8080/"
        },
        "id": "KseGjpIImkwl",
        "outputId": "728dbcac-a007-492c-d376-cf366ce9f15a"
      },
      "execution_count": null,
      "outputs": [
        {
          "output_type": "execute_result",
          "data": {
            "text/plain": [
              "1"
            ]
          },
          "metadata": {},
          "execution_count": 10
        }
      ]
    },
    {
      "cell_type": "code",
      "source": [
        "2**10"
      ],
      "metadata": {
        "colab": {
          "base_uri": "https://localhost:8080/"
        },
        "id": "zolFrf7imk4Z",
        "outputId": "599a8c30-7fce-4cf9-b447-7e3e6532214e"
      },
      "execution_count": null,
      "outputs": [
        {
          "output_type": "execute_result",
          "data": {
            "text/plain": [
              "1024"
            ]
          },
          "metadata": {},
          "execution_count": 11
        }
      ]
    },
    {
      "cell_type": "code",
      "source": [
        "int(3.3) #자료형을 변환시켜줌"
      ],
      "metadata": {
        "colab": {
          "base_uri": "https://localhost:8080/"
        },
        "id": "kl17SQemmk95",
        "outputId": "a3494d25-9296-4306-fe3f-cd6899ed9d5e"
      },
      "execution_count": null,
      "outputs": [
        {
          "output_type": "execute_result",
          "data": {
            "text/plain": [
              "3"
            ]
          },
          "metadata": {},
          "execution_count": 12
        }
      ]
    },
    {
      "cell_type": "code",
      "source": [
        "int(5/2)"
      ],
      "metadata": {
        "colab": {
          "base_uri": "https://localhost:8080/"
        },
        "id": "JdwPQevPmlAt",
        "outputId": "82741233-a276-46e7-d33a-ce940b903ecf"
      },
      "execution_count": null,
      "outputs": [
        {
          "output_type": "execute_result",
          "data": {
            "text/plain": [
              "2"
            ]
          },
          "metadata": {},
          "execution_count": 13
        }
      ]
    },
    {
      "cell_type": "code",
      "source": [
        "int(\"10\")"
      ],
      "metadata": {
        "colab": {
          "base_uri": "https://localhost:8080/"
        },
        "id": "0vr2pY6zmlC9",
        "outputId": "d1294907-c23f-4c9a-b233-0d5557abd837"
      },
      "execution_count": null,
      "outputs": [
        {
          "output_type": "execute_result",
          "data": {
            "text/plain": [
              "10"
            ]
          },
          "metadata": {},
          "execution_count": 15
        }
      ]
    },
    {
      "cell_type": "code",
      "source": [
        "type(10) # 자료형을 알려주는 명령어"
      ],
      "metadata": {
        "colab": {
          "base_uri": "https://localhost:8080/"
        },
        "id": "NCo6UmUjm2Dc",
        "outputId": "dbc9b103-28bf-4cc0-d513-7c09e159e6cd"
      },
      "execution_count": null,
      "outputs": [
        {
          "output_type": "execute_result",
          "data": {
            "text/plain": [
              "int"
            ]
          },
          "metadata": {},
          "execution_count": 16
        }
      ]
    },
    {
      "cell_type": "code",
      "source": [
        "divmod(5,2) #(5//2, 5%2)과 같다"
      ],
      "metadata": {
        "colab": {
          "base_uri": "https://localhost:8080/"
        },
        "id": "FbTm8LvCm2F-",
        "outputId": "611ec67b-7ad5-40ae-e3ea-c0b5df1eb1a6"
      },
      "execution_count": null,
      "outputs": [
        {
          "output_type": "execute_result",
          "data": {
            "text/plain": [
              "(2, 1)"
            ]
          },
          "metadata": {},
          "execution_count": 22
        }
      ]
    },
    {
      "cell_type": "code",
      "source": [
        "0b110 #0b의 뒤에 2진수를 씀"
      ],
      "metadata": {
        "colab": {
          "base_uri": "https://localhost:8080/"
        },
        "id": "T2k72UrLm2IR",
        "outputId": "61bba137-5851-477a-fd55-39f86a627ea1"
      },
      "execution_count": null,
      "outputs": [
        {
          "output_type": "execute_result",
          "data": {
            "text/plain": [
              "6"
            ]
          },
          "metadata": {},
          "execution_count": 23
        }
      ]
    },
    {
      "cell_type": "code",
      "source": [
        "0o10 #0o의 뒤에 8진수를 씀"
      ],
      "metadata": {
        "colab": {
          "base_uri": "https://localhost:8080/"
        },
        "id": "iTMxOhMHnukk",
        "outputId": "40575ac0-4cb5-4778-aca0-c0d0fc564a76"
      },
      "execution_count": null,
      "outputs": [
        {
          "output_type": "execute_result",
          "data": {
            "text/plain": [
              "8"
            ]
          },
          "metadata": {},
          "execution_count": 24
        }
      ]
    },
    {
      "cell_type": "code",
      "source": [
        "0xF #0x의 뒤에 16진수를 씀"
      ],
      "metadata": {
        "colab": {
          "base_uri": "https://localhost:8080/"
        },
        "id": "5UN91_Ojnum1",
        "outputId": "1e746c7a-69c6-49a7-e2f3-b591268a1eb3"
      },
      "execution_count": null,
      "outputs": [
        {
          "output_type": "execute_result",
          "data": {
            "text/plain": [
              "15"
            ]
          },
          "metadata": {},
          "execution_count": 25
        }
      ]
    },
    {
      "cell_type": "code",
      "source": [
        "3.5+2.1"
      ],
      "metadata": {
        "colab": {
          "base_uri": "https://localhost:8080/"
        },
        "id": "dD-9xFGcohTR",
        "outputId": "669337f0-9d07-4513-e96f-80c8404f98ba"
      },
      "execution_count": null,
      "outputs": [
        {
          "output_type": "execute_result",
          "data": {
            "text/plain": [
              "5.6"
            ]
          },
          "metadata": {},
          "execution_count": 26
        }
      ]
    },
    {
      "cell_type": "code",
      "source": [
        "4.3-2.7 #실수값의 오차 (컴퓨터는 비트로 숫자를 표현함으로 정확히 표현이 불가능)"
      ],
      "metadata": {
        "colab": {
          "base_uri": "https://localhost:8080/"
        },
        "id": "JeZOJVuPohVs",
        "outputId": "f124f986-11a1-4653-d33a-9de2753ca3f6"
      },
      "execution_count": null,
      "outputs": [
        {
          "output_type": "execute_result",
          "data": {
            "text/plain": [
              "1.5999999999999996"
            ]
          },
          "metadata": {},
          "execution_count": 27
        }
      ]
    },
    {
      "cell_type": "code",
      "source": [
        "1.5*3.1"
      ],
      "metadata": {
        "colab": {
          "base_uri": "https://localhost:8080/"
        },
        "id": "JM6cTPUQohYe",
        "outputId": "5686405f-a8a9-43d5-a8c0-c87cea424b00"
      },
      "execution_count": null,
      "outputs": [
        {
          "output_type": "execute_result",
          "data": {
            "text/plain": [
              "4.65"
            ]
          },
          "metadata": {},
          "execution_count": 28
        }
      ]
    },
    {
      "cell_type": "code",
      "source": [
        "5.5/3.1"
      ],
      "metadata": {
        "colab": {
          "base_uri": "https://localhost:8080/"
        },
        "id": "1vDGI0O7oha1",
        "outputId": "d09f2d24-1aaf-4018-84f0-3c29e4680a49"
      },
      "execution_count": null,
      "outputs": [
        {
          "output_type": "execute_result",
          "data": {
            "text/plain": [
              "1.7741935483870968"
            ]
          },
          "metadata": {},
          "execution_count": 29
        }
      ]
    },
    {
      "cell_type": "code",
      "source": [
        "4.2+5"
      ],
      "metadata": {
        "colab": {
          "base_uri": "https://localhost:8080/"
        },
        "id": "GhqpM_d5ohe9",
        "outputId": "76bfa619-b9df-4b4e-b1ae-ccb76c14e516"
      },
      "execution_count": null,
      "outputs": [
        {
          "output_type": "execute_result",
          "data": {
            "text/plain": [
              "9.2"
            ]
          },
          "metadata": {},
          "execution_count": 30
        }
      ]
    },
    {
      "cell_type": "code",
      "source": [
        "float(5)"
      ],
      "metadata": {
        "colab": {
          "base_uri": "https://localhost:8080/"
        },
        "id": "x9BmWVV6ohhg",
        "outputId": "4d715e67-5b34-4b39-e568-2f1ee944b5ca"
      },
      "execution_count": null,
      "outputs": [
        {
          "output_type": "execute_result",
          "data": {
            "text/plain": [
              "5.0"
            ]
          },
          "metadata": {},
          "execution_count": 31
        }
      ]
    },
    {
      "cell_type": "code",
      "source": [
        "float(1+2)"
      ],
      "metadata": {
        "colab": {
          "base_uri": "https://localhost:8080/"
        },
        "id": "jd5jFCq-pKNx",
        "outputId": "097a28d3-a962-4ac0-cd10-5425fc4dce08"
      },
      "execution_count": null,
      "outputs": [
        {
          "output_type": "execute_result",
          "data": {
            "text/plain": [
              "3.0"
            ]
          },
          "metadata": {},
          "execution_count": 32
        }
      ]
    },
    {
      "cell_type": "code",
      "source": [
        "float(\"5.3\")"
      ],
      "metadata": {
        "colab": {
          "base_uri": "https://localhost:8080/"
        },
        "id": "2jcL4AdtpIs9",
        "outputId": "d0e79f16-2ccd-41ae-aa0c-116122208f2d"
      },
      "execution_count": null,
      "outputs": [
        {
          "output_type": "execute_result",
          "data": {
            "text/plain": [
              "5.3"
            ]
          },
          "metadata": {},
          "execution_count": 33
        }
      ]
    },
    {
      "cell_type": "code",
      "source": [
        "type(3.5)"
      ],
      "metadata": {
        "colab": {
          "base_uri": "https://localhost:8080/"
        },
        "id": "jWt_4Z7fpIvd",
        "outputId": "bd461d58-a62c-4ee1-f3cb-70e1dbba5170"
      },
      "execution_count": null,
      "outputs": [
        {
          "output_type": "execute_result",
          "data": {
            "text/plain": [
              "float"
            ]
          },
          "metadata": {},
          "execution_count": 35
        }
      ]
    },
    {
      "cell_type": "code",
      "source": [
        "35+1*2"
      ],
      "metadata": {
        "colab": {
          "base_uri": "https://localhost:8080/"
        },
        "id": "m1o8qQCIpI4w",
        "outputId": "63531ab5-11e9-4ec0-86d8-13cbd2558ee1"
      },
      "execution_count": null,
      "outputs": [
        {
          "output_type": "execute_result",
          "data": {
            "text/plain": [
              "37"
            ]
          },
          "metadata": {},
          "execution_count": 38
        }
      ]
    },
    {
      "cell_type": "code",
      "source": [
        "(35+1)*2 #괄호는 수학과 똑같음"
      ],
      "metadata": {
        "colab": {
          "base_uri": "https://localhost:8080/"
        },
        "id": "AlBRg2yTqLpP",
        "outputId": "1d8ff5de-e240-4b0e-a6c7-b351b8cdccdd"
      },
      "execution_count": null,
      "outputs": [
        {
          "output_type": "execute_result",
          "data": {
            "text/plain": [
              "72"
            ]
          },
          "metadata": {},
          "execution_count": 39
        }
      ]
    },
    {
      "cell_type": "code",
      "source": [
        "#5.5 연습문제\n",
        "int(0.2467 * 12 + 4.159)"
      ],
      "metadata": {
        "colab": {
          "base_uri": "https://localhost:8080/"
        },
        "id": "jX2ifjLVqYi-",
        "outputId": "27f5c607-65a1-43c2-ab05-7584f1143078"
      },
      "execution_count": null,
      "outputs": [
        {
          "output_type": "execute_result",
          "data": {
            "text/plain": [
              "7"
            ]
          },
          "metadata": {},
          "execution_count": 40
        }
      ]
    },
    {
      "cell_type": "code",
      "source": [
        "#5.6 심사문제\n",
        "print(102*0.6+225)"
      ],
      "metadata": {
        "colab": {
          "base_uri": "https://localhost:8080/"
        },
        "id": "BGpjFe01eXSV",
        "outputId": "9f5b820a-eb06-44cd-de1c-871de0184800"
      },
      "execution_count": null,
      "outputs": [
        {
          "output_type": "stream",
          "name": "stdout",
          "text": [
            "286.2\n"
          ]
        }
      ]
    },
    {
      "cell_type": "markdown",
      "source": [
        "# 복소수"
      ],
      "metadata": {
        "id": "c3tMZSBVpTbP"
      }
    },
    {
      "cell_type": "code",
      "source": [
        "1.2+1.3j"
      ],
      "metadata": {
        "colab": {
          "base_uri": "https://localhost:8080/"
        },
        "id": "br1E0nMHpIx4",
        "outputId": "cdb77141-f58c-4e28-c0d4-10153bc1c06f"
      },
      "execution_count": null,
      "outputs": [
        {
          "output_type": "execute_result",
          "data": {
            "text/plain": [
              "(1.2+1.3j)"
            ]
          },
          "metadata": {},
          "execution_count": 36
        }
      ]
    },
    {
      "cell_type": "code",
      "source": [
        "complex(1.2, 1.3) #두실수를 복소수로 (complex)"
      ],
      "metadata": {
        "colab": {
          "base_uri": "https://localhost:8080/"
        },
        "id": "-Q-AceLtpI1q",
        "outputId": "57bc040d-ab03-4e0c-a9e9-2ed383331561"
      },
      "execution_count": null,
      "outputs": [
        {
          "output_type": "execute_result",
          "data": {
            "text/plain": [
              "(1.2+1.3j)"
            ]
          },
          "metadata": {},
          "execution_count": 37
        }
      ]
    },
    {
      "cell_type": "markdown",
      "source": [
        "# unit 6"
      ],
      "metadata": {
        "id": "0ci_Idhqqr5r"
      }
    },
    {
      "cell_type": "code",
      "source": [
        "#변수 저장\n",
        "x=10\n",
        "x"
      ],
      "metadata": {
        "colab": {
          "base_uri": "https://localhost:8080/"
        },
        "id": "wFJGq-_0qvMs",
        "outputId": "7bfaaaae-47ae-4a6a-b833-b728a1f1512c"
      },
      "execution_count": null,
      "outputs": [
        {
          "output_type": "execute_result",
          "data": {
            "text/plain": [
              "10"
            ]
          },
          "metadata": {},
          "execution_count": 42
        }
      ]
    },
    {
      "cell_type": "code",
      "source": [
        "y='Hello, world!'\n",
        "y"
      ],
      "metadata": {
        "colab": {
          "base_uri": "https://localhost:8080/",
          "height": 36
        },
        "id": "vzuyX0UoqvO9",
        "outputId": "7075a305-f6d6-455a-e943-f55c31fbd1d1"
      },
      "execution_count": null,
      "outputs": [
        {
          "output_type": "execute_result",
          "data": {
            "text/plain": [
              "'Hello, world!'"
            ],
            "application/vnd.google.colaboratory.intrinsic+json": {
              "type": "string"
            }
          },
          "metadata": {},
          "execution_count": 44
        }
      ]
    },
    {
      "cell_type": "code",
      "source": [
        "#변수 자료형 알아보기\n",
        "type(x)"
      ],
      "metadata": {
        "colab": {
          "base_uri": "https://localhost:8080/"
        },
        "id": "gicLvuoZqvWg",
        "outputId": "698256de-ee10-4d07-fe2d-9719b981af40"
      },
      "execution_count": null,
      "outputs": [
        {
          "output_type": "execute_result",
          "data": {
            "text/plain": [
              "int"
            ]
          },
          "metadata": {},
          "execution_count": 47
        }
      ]
    },
    {
      "cell_type": "code",
      "source": [
        "type(y)"
      ],
      "metadata": {
        "colab": {
          "base_uri": "https://localhost:8080/"
        },
        "id": "y5TW75iFqvYu",
        "outputId": "4088734d-9ea9-46dc-8adb-f79e8ced2b03"
      },
      "execution_count": null,
      "outputs": [
        {
          "output_type": "execute_result",
          "data": {
            "text/plain": [
              "str"
            ]
          },
          "metadata": {},
          "execution_count": 48
        }
      ]
    },
    {
      "cell_type": "code",
      "source": [
        "#변수 한 번에 여러개 만들기\n",
        "x, y, z = 10, 20, 30\n",
        "x"
      ],
      "metadata": {
        "colab": {
          "base_uri": "https://localhost:8080/"
        },
        "id": "bsqf5yifqvaw",
        "outputId": "e307ff6a-6dd6-417d-e692-3816456dbff6"
      },
      "execution_count": null,
      "outputs": [
        {
          "output_type": "execute_result",
          "data": {
            "text/plain": [
              "10"
            ]
          },
          "metadata": {},
          "execution_count": 49
        }
      ]
    },
    {
      "cell_type": "code",
      "source": [
        "y"
      ],
      "metadata": {
        "colab": {
          "base_uri": "https://localhost:8080/"
        },
        "id": "OiEpuQNiqvdD",
        "outputId": "9d21071c-ae64-4066-9952-e7e5db5a62d4"
      },
      "execution_count": null,
      "outputs": [
        {
          "output_type": "execute_result",
          "data": {
            "text/plain": [
              "20"
            ]
          },
          "metadata": {},
          "execution_count": 50
        }
      ]
    },
    {
      "cell_type": "code",
      "source": [
        "z"
      ],
      "metadata": {
        "colab": {
          "base_uri": "https://localhost:8080/"
        },
        "id": "DRr7kfx2rfs9",
        "outputId": "0c685544-02cd-4859-b455-b501c54aa7f6"
      },
      "execution_count": null,
      "outputs": [
        {
          "output_type": "execute_result",
          "data": {
            "text/plain": [
              "30"
            ]
          },
          "metadata": {},
          "execution_count": 51
        }
      ]
    },
    {
      "cell_type": "code",
      "source": [
        "#여러 변수에 모두 같은 값을 넣을때\n",
        "x = y = z = 10\n",
        "x"
      ],
      "metadata": {
        "colab": {
          "base_uri": "https://localhost:8080/"
        },
        "id": "L_IocHylrg0K",
        "outputId": "5125434d-f448-4089-ed19-ca211b46e50f"
      },
      "execution_count": null,
      "outputs": [
        {
          "output_type": "execute_result",
          "data": {
            "text/plain": [
              "10"
            ]
          },
          "metadata": {},
          "execution_count": 53
        }
      ]
    },
    {
      "cell_type": "code",
      "source": [
        "y"
      ],
      "metadata": {
        "colab": {
          "base_uri": "https://localhost:8080/"
        },
        "id": "qktD0vU-rg3K",
        "outputId": "c046ba13-0010-4726-f3fc-1b2ae301e967"
      },
      "execution_count": null,
      "outputs": [
        {
          "output_type": "execute_result",
          "data": {
            "text/plain": [
              "10"
            ]
          },
          "metadata": {},
          "execution_count": 54
        }
      ]
    },
    {
      "cell_type": "code",
      "source": [
        "z"
      ],
      "metadata": {
        "colab": {
          "base_uri": "https://localhost:8080/"
        },
        "id": "oVFVKhTerg5T",
        "outputId": "71b98adb-3528-4d62-cbbb-32abaf78babc"
      },
      "execution_count": null,
      "outputs": [
        {
          "output_type": "execute_result",
          "data": {
            "text/plain": [
              "10"
            ]
          },
          "metadata": {},
          "execution_count": 55
        }
      ]
    },
    {
      "cell_type": "code",
      "source": [
        "x,y=10,20\n",
        "x,y=y,x #서로 값을 바꿈\n",
        "x"
      ],
      "metadata": {
        "colab": {
          "base_uri": "https://localhost:8080/"
        },
        "id": "VRov6fFRrg7c",
        "outputId": "5b224be3-ce05-4a0b-a4eb-3ffd549d280d"
      },
      "execution_count": null,
      "outputs": [
        {
          "output_type": "execute_result",
          "data": {
            "text/plain": [
              "20"
            ]
          },
          "metadata": {},
          "execution_count": 57
        }
      ]
    },
    {
      "cell_type": "code",
      "source": [
        "y"
      ],
      "metadata": {
        "colab": {
          "base_uri": "https://localhost:8080/"
        },
        "id": "_S53uquhDjeg",
        "outputId": "62beeaea-ab10-4d37-be2c-f27010d96a60"
      },
      "execution_count": null,
      "outputs": [
        {
          "output_type": "execute_result",
          "data": {
            "text/plain": [
              "10"
            ]
          },
          "metadata": {},
          "execution_count": 58
        }
      ]
    },
    {
      "cell_type": "code",
      "source": [
        "#변수 삭제\n",
        "x=10\n",
        "del x\n",
        "x"
      ],
      "metadata": {
        "colab": {
          "base_uri": "https://localhost:8080/",
          "height": 213
        },
        "id": "X86eI0XnDjgj",
        "outputId": "18eab48e-8247-4962-a15d-ef00ec85e8c8"
      },
      "execution_count": null,
      "outputs": [
        {
          "output_type": "error",
          "ename": "NameError",
          "evalue": "ignored",
          "traceback": [
            "\u001b[0;31m---------------------------------------------------------------------------\u001b[0m",
            "\u001b[0;31mNameError\u001b[0m                                 Traceback (most recent call last)",
            "\u001b[0;32m<ipython-input-59-917f1eb0ecd0>\u001b[0m in \u001b[0;36m<module>\u001b[0;34m\u001b[0m\n\u001b[1;32m      2\u001b[0m \u001b[0mx\u001b[0m\u001b[0;34m=\u001b[0m\u001b[0;36m10\u001b[0m\u001b[0;34m\u001b[0m\u001b[0;34m\u001b[0m\u001b[0m\n\u001b[1;32m      3\u001b[0m \u001b[0;32mdel\u001b[0m \u001b[0mx\u001b[0m\u001b[0;34m\u001b[0m\u001b[0;34m\u001b[0m\u001b[0m\n\u001b[0;32m----> 4\u001b[0;31m \u001b[0mx\u001b[0m\u001b[0;34m\u001b[0m\u001b[0;34m\u001b[0m\u001b[0m\n\u001b[0m",
            "\u001b[0;31mNameError\u001b[0m: name 'x' is not defined"
          ]
        }
      ]
    },
    {
      "cell_type": "code",
      "source": [
        "#빈변수 생성\n",
        "x=None #None은 아무것도 없는 상태이다\n",
        "print(x)"
      ],
      "metadata": {
        "colab": {
          "base_uri": "https://localhost:8080/"
        },
        "id": "QflkmL96D23c",
        "outputId": "5f84b7fe-8704-45fa-83a4-c10b16002507"
      },
      "execution_count": null,
      "outputs": [
        {
          "output_type": "stream",
          "name": "stdout",
          "text": [
            "None\n"
          ]
        }
      ]
    },
    {
      "cell_type": "code",
      "source": [
        "a=10\n",
        "b=20\n",
        "c=a+b\n",
        "c"
      ],
      "metadata": {
        "colab": {
          "base_uri": "https://localhost:8080/"
        },
        "id": "B7wfQ7mjD27Q",
        "outputId": "81fda08c-3a47-44cf-ba6e-f237810030f1"
      },
      "execution_count": null,
      "outputs": [
        {
          "output_type": "execute_result",
          "data": {
            "text/plain": [
              "30"
            ]
          },
          "metadata": {},
          "execution_count": 61
        }
      ]
    },
    {
      "cell_type": "code",
      "source": [
        "a=10\n",
        "a+20 #단순히 더한 값을 나타냄 a값에 영향 없음"
      ],
      "metadata": {
        "colab": {
          "base_uri": "https://localhost:8080/"
        },
        "id": "uT3yaAqWD2-M",
        "outputId": "ffb6f8bf-7787-4b4f-963f-c61c651e93d3"
      },
      "execution_count": null,
      "outputs": [
        {
          "output_type": "execute_result",
          "data": {
            "text/plain": [
              "30"
            ]
          },
          "metadata": {},
          "execution_count": 62
        }
      ]
    },
    {
      "cell_type": "code",
      "source": [
        "a"
      ],
      "metadata": {
        "colab": {
          "base_uri": "https://localhost:8080/"
        },
        "id": "_tnlmYmSEVeK",
        "outputId": "febb15bb-f5ef-4c38-f66d-4d31e29902ee"
      },
      "execution_count": null,
      "outputs": [
        {
          "output_type": "execute_result",
          "data": {
            "text/plain": [
              "10"
            ]
          },
          "metadata": {},
          "execution_count": 63
        }
      ]
    },
    {
      "cell_type": "code",
      "source": [
        "a=10\n",
        "a=a+20 #더한 값을 다시 a에 저장함 결과적으로 a의 값은 변경됨\n",
        "a"
      ],
      "metadata": {
        "colab": {
          "base_uri": "https://localhost:8080/"
        },
        "id": "lv8p1z1JEVgt",
        "outputId": "ae0c9592-f6a3-4544-eebe-d8f3b231d23e"
      },
      "execution_count": null,
      "outputs": [
        {
          "output_type": "execute_result",
          "data": {
            "text/plain": [
              "30"
            ]
          },
          "metadata": {},
          "execution_count": 64
        }
      ]
    },
    {
      "cell_type": "code",
      "source": [
        "a=10\n",
        "a+=20 #a=a+20을 줄인 형태\n",
        "a"
      ],
      "metadata": {
        "colab": {
          "base_uri": "https://localhost:8080/"
        },
        "id": "EhI_lLFtEVi-",
        "outputId": "90266648-725d-4f9d-839f-21e1b43e34b5"
      },
      "execution_count": null,
      "outputs": [
        {
          "output_type": "execute_result",
          "data": {
            "text/plain": [
              "30"
            ]
          },
          "metadata": {},
          "execution_count": 65
        }
      ]
    },
    {
      "cell_type": "code",
      "source": [
        "x=-10\n",
        "+x #부호를 바꿔줌"
      ],
      "metadata": {
        "colab": {
          "base_uri": "https://localhost:8080/"
        },
        "id": "iX_yxsN1EVk4",
        "outputId": "19c2b66c-6a49-4320-eb52-227d97eb8cf7"
      },
      "execution_count": null,
      "outputs": [
        {
          "output_type": "execute_result",
          "data": {
            "text/plain": [
              "-10"
            ]
          },
          "metadata": {},
          "execution_count": 66
        }
      ]
    },
    {
      "cell_type": "code",
      "source": [
        "-x"
      ],
      "metadata": {
        "colab": {
          "base_uri": "https://localhost:8080/"
        },
        "id": "MSP-oJ8xEVme",
        "outputId": "a92fec93-b13f-4081-d371-4f5c424f2617"
      },
      "execution_count": null,
      "outputs": [
        {
          "output_type": "execute_result",
          "data": {
            "text/plain": [
              "10"
            ]
          },
          "metadata": {},
          "execution_count": 67
        }
      ]
    },
    {
      "cell_type": "code",
      "source": [
        "input() #입력받음"
      ],
      "metadata": {
        "colab": {
          "base_uri": "https://localhost:8080/",
          "height": 54
        },
        "id": "_awdIBxXEVoq",
        "outputId": "4a7e73ce-55d6-4180-8132-63eb28918058"
      },
      "execution_count": null,
      "outputs": [
        {
          "name": "stdout",
          "output_type": "stream",
          "text": [
            "Hello, world!\n"
          ]
        },
        {
          "output_type": "execute_result",
          "data": {
            "text/plain": [
              "'Hello, world!'"
            ],
            "application/vnd.google.colaboratory.intrinsic+json": {
              "type": "string"
            }
          },
          "metadata": {},
          "execution_count": 68
        }
      ]
    },
    {
      "cell_type": "code",
      "source": [
        "x=input() #입력한 값을 변수에 저장함\n",
        "x"
      ],
      "metadata": {
        "colab": {
          "base_uri": "https://localhost:8080/",
          "height": 54
        },
        "id": "mj5eJQndEVqX",
        "outputId": "ea069a99-c5ec-4151-bba3-4840c986c35d"
      },
      "execution_count": null,
      "outputs": [
        {
          "name": "stdout",
          "output_type": "stream",
          "text": [
            "Hello, world!\n"
          ]
        },
        {
          "output_type": "execute_result",
          "data": {
            "text/plain": [
              "'Hello, world!'"
            ],
            "application/vnd.google.colaboratory.intrinsic+json": {
              "type": "string"
            }
          },
          "metadata": {},
          "execution_count": 70
        }
      ]
    },
    {
      "cell_type": "code",
      "source": [
        "x=input(\"문자열을 입력하세요: \") #input()에서 괄호 안에 있는 것은 그냥 보이기만 함\n",
        "x"
      ],
      "metadata": {
        "colab": {
          "base_uri": "https://localhost:8080/",
          "height": 54
        },
        "id": "kFwqTdG1EVsf",
        "outputId": "18391d0a-174c-4447-da81-0d9fd1908c46"
      },
      "execution_count": null,
      "outputs": [
        {
          "name": "stdout",
          "output_type": "stream",
          "text": [
            "문자열을 입력하세요: Hello, world!\n"
          ]
        },
        {
          "output_type": "execute_result",
          "data": {
            "text/plain": [
              "'Hello, world!'"
            ],
            "application/vnd.google.colaboratory.intrinsic+json": {
              "type": "string"
            }
          },
          "metadata": {},
          "execution_count": 72
        }
      ]
    },
    {
      "cell_type": "code",
      "source": [
        "a=input(\"첫 번째 숫자를 입력하세요: \")\n",
        "b=input(\"두 번째 숫자를 입력하세요: \")\n",
        "print(a+b) #a와 b를 더했는데 그냥 붙어서 나옴 input()으로 입력받는 것은 문자열임"
      ],
      "metadata": {
        "colab": {
          "base_uri": "https://localhost:8080/"
        },
        "id": "ASKMCmo5F0A9",
        "outputId": "ec135881-42c3-442c-f008-1bf56709e6c6"
      },
      "execution_count": null,
      "outputs": [
        {
          "output_type": "stream",
          "name": "stdout",
          "text": [
            "첫 번째 숫자를 입력하세요: 10\n",
            "두 번째 숫자를 입력하세요: 20\n",
            "1020\n"
          ]
        }
      ]
    },
    {
      "cell_type": "code",
      "source": [
        "a=input()\n",
        "type(a)"
      ],
      "metadata": {
        "colab": {
          "base_uri": "https://localhost:8080/"
        },
        "id": "-ull-WDxF0Eo",
        "outputId": "628d48a5-5b71-42c1-d376-e0847095c7f0"
      },
      "execution_count": null,
      "outputs": [
        {
          "name": "stdout",
          "output_type": "stream",
          "text": [
            "10\n"
          ]
        },
        {
          "output_type": "execute_result",
          "data": {
            "text/plain": [
              "str"
            ]
          },
          "metadata": {},
          "execution_count": 75
        }
      ]
    },
    {
      "cell_type": "code",
      "source": [
        "a = int(input('첫 번째 숫자를 입력하세요: ')) # int를 붙여서 정수형으로 변형해서 저장\n",
        "b = int(input('두 번째 숫자를 입력하세요: '))\n",
        "print(a+b)"
      ],
      "metadata": {
        "colab": {
          "base_uri": "https://localhost:8080/"
        },
        "id": "_nu101xBF0Hf",
        "outputId": "3537326f-4302-4721-f09b-5da7b748cc97"
      },
      "execution_count": null,
      "outputs": [
        {
          "output_type": "stream",
          "name": "stdout",
          "text": [
            "첫 번째 숫자를 입력하세요: 10\n",
            "두 번째 숫자를 입력하세요: 20\n",
            "30\n"
          ]
        }
      ]
    },
    {
      "cell_type": "code",
      "source": [
        "a, b = input('문자열 두 개를 입력하세요: ').split() \n",
        "# 입력받은 값을 split()의 괄호안에 있는 것을 기준으로 분리\n",
        "print(a)\n",
        "print(b)"
      ],
      "metadata": {
        "colab": {
          "base_uri": "https://localhost:8080/"
        },
        "id": "Ugy-HXybEVuj",
        "outputId": "2e1a008c-4f40-4ef9-9120-7f212bedfb6e"
      },
      "execution_count": null,
      "outputs": [
        {
          "output_type": "stream",
          "name": "stdout",
          "text": [
            "문자열 두 개를 입력하세요: Hello Python\n",
            "Hello\n",
            "Python\n"
          ]
        }
      ]
    },
    {
      "cell_type": "code",
      "source": [
        "a, b = input('숫자 두 개를 입력하세요: ').split()\n",
        "print(a + b)"
      ],
      "metadata": {
        "colab": {
          "base_uri": "https://localhost:8080/"
        },
        "id": "J7hc4Wo5IK6l",
        "outputId": "c8802525-a0b6-45c3-deb8-8c0e5b1b162d"
      },
      "execution_count": null,
      "outputs": [
        {
          "output_type": "stream",
          "name": "stdout",
          "text": [
            "숫자 두 개를 입력하세요: 10 20\n",
            "1020\n"
          ]
        }
      ]
    },
    {
      "cell_type": "code",
      "source": [
        "a, b = input('숫자 두 개를 입력하세요: ').split()\n",
        "a = int(a)    # 변수를 정수로 변환한 뒤 다시 저장\n",
        "b = int(b)\n",
        "print(a + b)\n",
        "print(int(a)+int(b)) #print안에서 정수형으로 변형해도 됨"
      ],
      "metadata": {
        "colab": {
          "base_uri": "https://localhost:8080/"
        },
        "id": "gXajk43GIK89",
        "outputId": "8b76c8c7-ce84-4ab9-c218-02a55df111ea"
      },
      "execution_count": null,
      "outputs": [
        {
          "output_type": "stream",
          "name": "stdout",
          "text": [
            "숫자 두 개를 입력하세요: 10 20\n",
            "30\n",
            "30\n"
          ]
        }
      ]
    },
    {
      "cell_type": "code",
      "source": [
        "a,b=map(int,input(\"숫자 두 개를 입력하세요: \").split()) #map이 input()으로 받은 값을 자동으로 정스형으로 변형해줌\n",
        "print(a+b)"
      ],
      "metadata": {
        "colab": {
          "base_uri": "https://localhost:8080/"
        },
        "id": "G5so6IwZIK_W",
        "outputId": "63b56155-2cd1-4800-e47e-bd0ebedb1b5d"
      },
      "execution_count": null,
      "outputs": [
        {
          "output_type": "stream",
          "name": "stdout",
          "text": [
            "숫자 두 개를 입력하세요: 10 20\n",
            "30\n"
          ]
        }
      ]
    },
    {
      "cell_type": "code",
      "source": [
        "a, b = map(int, input('숫자 두 개를 입력하세요: ').split(',')) \n",
        "#값을 콤마(,)기준으로 분리해서 a랑b에 저장함\n",
        "print(a + b)"
      ],
      "metadata": {
        "colab": {
          "base_uri": "https://localhost:8080/"
        },
        "id": "NHZ2hsJgILB3",
        "outputId": "558f8dd6-ee81-41e4-b57d-ecdb045e9e86"
      },
      "execution_count": null,
      "outputs": [
        {
          "output_type": "stream",
          "name": "stdout",
          "text": [
            "숫자 두 개를 입력하세요: 10,20\n",
            "30\n"
          ]
        }
      ]
    },
    {
      "cell_type": "code",
      "source": [
        "#6.6 연습문제\n",
        "a, b, c = map(int, input().split())\n",
        "print(a + b + c)"
      ],
      "metadata": {
        "colab": {
          "base_uri": "https://localhost:8080/"
        },
        "id": "oVDVL3T2ILD6",
        "outputId": "afe96bbb-9e37-46e5-d703-85048b0729dd"
      },
      "execution_count": null,
      "outputs": [
        {
          "output_type": "stream",
          "name": "stdout",
          "text": [
            "-10 20 30\n",
            "40\n"
          ]
        }
      ]
    },
    {
      "cell_type": "code",
      "source": [
        "#6.7 심사문제\n",
        "a=50\n",
        "b=100\n",
        "c=None\n",
        "print(a)\n",
        "print(b)\n",
        "print(c)"
      ],
      "metadata": {
        "colab": {
          "base_uri": "https://localhost:8080/"
        },
        "id": "Zhlm5FWIeXa4",
        "outputId": "e930d6db-5834-4a5a-f073-144a5d801f84"
      },
      "execution_count": null,
      "outputs": [
        {
          "output_type": "stream",
          "name": "stdout",
          "text": [
            "50\n",
            "100\n",
            "None\n"
          ]
        }
      ]
    },
    {
      "cell_type": "code",
      "source": [
        "#6.8 심사문제\n",
        "a,b,c,d=map(int,input().split())\n",
        "print((a+b+c+d)//4)"
      ],
      "metadata": {
        "id": "laKb7f1oeXd4",
        "colab": {
          "base_uri": "https://localhost:8080/"
        },
        "outputId": "25ebb07d-091a-4174-8cf5-c8e664ec9e88"
      },
      "execution_count": null,
      "outputs": [
        {
          "output_type": "stream",
          "name": "stdout",
          "text": [
            "83 92 87 90\n",
            "88\n"
          ]
        }
      ]
    },
    {
      "cell_type": "markdown",
      "source": [
        "# unit 7"
      ],
      "metadata": {
        "id": "TGqYQhEZKoT9"
      }
    },
    {
      "cell_type": "code",
      "source": [
        "print(1,2,3) #콤마(,)를 사용해서  \n",
        "print(\"Hello\",\"Python\")"
      ],
      "metadata": {
        "colab": {
          "base_uri": "https://localhost:8080/"
        },
        "id": "GKvEZ6NTILvq",
        "outputId": "f0bed47e-3252-4ab2-e162-c8a6ebb3a78f"
      },
      "execution_count": null,
      "outputs": [
        {
          "output_type": "stream",
          "name": "stdout",
          "text": [
            "1 2 3\n",
            "Hello Python\n"
          ]
        }
      ]
    },
    {
      "cell_type": "code",
      "source": [
        "print(1, 2, 3, sep=', ')    # sep에 콤마와 공백을 지정\n",
        "print(4, 5, 6, sep=',')    # sep에 콤마만 지정\n",
        "print('Hello', 'Python', sep='')    # sep에 빈 문자열을 지정\n",
        "print(1920, 1080, sep='x')    # sep에 x를 지정"
      ],
      "metadata": {
        "colab": {
          "base_uri": "https://localhost:8080/"
        },
        "id": "47ucYaxkiBdx",
        "outputId": "5107f61c-2860-4d49-90f6-29047c883928"
      },
      "execution_count": null,
      "outputs": [
        {
          "output_type": "stream",
          "name": "stdout",
          "text": [
            "1, 2, 3\n",
            "4,5,6\n",
            "HelloPython\n",
            "1920x1080\n"
          ]
        }
      ]
    },
    {
      "cell_type": "code",
      "source": [
        "print(1, 2, 3, sep='\\n') #여기서 \\n(제어문자)은 줄바꿈임"
      ],
      "metadata": {
        "colab": {
          "base_uri": "https://localhost:8080/"
        },
        "id": "qw1OoM7QiBgS",
        "outputId": "2d93e04c-ac50-45c3-c582-bb5736fb2a6e"
      },
      "execution_count": null,
      "outputs": [
        {
          "output_type": "stream",
          "name": "stdout",
          "text": [
            "1\n",
            "2\n",
            "3\n"
          ]
        }
      ]
    },
    {
      "cell_type": "code",
      "source": [
        "print(1)\n",
        "print(2)\n",
        "print(3)"
      ],
      "metadata": {
        "colab": {
          "base_uri": "https://localhost:8080/"
        },
        "id": "noGNVoABiBi-",
        "outputId": "dd049aa4-e748-47a2-9650-e531c769c0a8"
      },
      "execution_count": null,
      "outputs": [
        {
          "output_type": "stream",
          "name": "stdout",
          "text": [
            "1\n",
            "2\n",
            "3\n"
          ]
        }
      ]
    },
    {
      "cell_type": "code",
      "source": [
        "print(1, end='')\n",
        "# end에 빈 문자열을 지정하면 다음 번 출력이 바로 뒤에 오게 됨\n",
        "print(2, end='')\n",
        "print(3)"
      ],
      "metadata": {
        "colab": {
          "base_uri": "https://localhost:8080/"
        },
        "id": "YA2NK3C-iBlz",
        "outputId": "bb0124a3-a777-4deb-d30f-542021107c0e"
      },
      "execution_count": null,
      "outputs": [
        {
          "output_type": "stream",
          "name": "stdout",
          "text": [
            "123\n"
          ]
        }
      ]
    },
    {
      "cell_type": "code",
      "source": [
        "print(1, end=' ')# end에 공백 한 칸 지정\n",
        "print(2, end=' ')\n",
        "print(3)"
      ],
      "metadata": {
        "colab": {
          "base_uri": "https://localhost:8080/"
        },
        "id": "HmDH5wP-iBrv",
        "outputId": "459dca2f-4611-4654-a590-98358753c107"
      },
      "execution_count": null,
      "outputs": [
        {
          "output_type": "stream",
          "name": "stdout",
          "text": [
            "1 2 3\n"
          ]
        }
      ]
    },
    {
      "cell_type": "code",
      "source": [
        "#7.4 연습문제\n",
        "year = 2000\n",
        "month = 10\n",
        "day = 27\n",
        "hour = 11\n",
        "minute = 43\n",
        "second = 59\n",
        " \n",
        "print(year, month, day, sep='/', end=' ')\n",
        "print(hour, minute, second, sep=':')"
      ],
      "metadata": {
        "colab": {
          "base_uri": "https://localhost:8080/"
        },
        "id": "hGkM4j0LkVbi",
        "outputId": "1c61d08d-2224-4ad1-ba05-586f5853ba79"
      },
      "execution_count": null,
      "outputs": [
        {
          "output_type": "stream",
          "name": "stdout",
          "text": [
            "2000/10/27 11:43:59\n"
          ]
        }
      ]
    },
    {
      "cell_type": "code",
      "source": [
        "#7.5 심사문제\n",
        "year, month, day, hour, minute, second = input().split()\n",
        "print(year, month, day, sep='-', end='T')\n",
        "print(hour, minute, second, sep=':')"
      ],
      "metadata": {
        "colab": {
          "base_uri": "https://localhost:8080/"
        },
        "id": "xxL4GKmckVeH",
        "outputId": "d926dad0-e533-496a-870a-50a43d09904d"
      },
      "execution_count": null,
      "outputs": [
        {
          "output_type": "stream",
          "name": "stdout",
          "text": [
            "1999 12 31 10 37 21\n",
            "1999-12-31T10:37:21\n"
          ]
        }
      ]
    },
    {
      "cell_type": "markdown",
      "source": [
        "# unit 8"
      ],
      "metadata": {
        "id": "cqHi448Ahv1Y"
      }
    },
    {
      "cell_type": "code",
      "source": [
        "True"
      ],
      "metadata": {
        "id": "ccvpzULekVgj",
        "colab": {
          "base_uri": "https://localhost:8080/"
        },
        "outputId": "4bbb38a4-cc69-4299-be49-5f31b8325b06"
      },
      "execution_count": null,
      "outputs": [
        {
          "output_type": "execute_result",
          "data": {
            "text/plain": [
              "True"
            ]
          },
          "metadata": {},
          "execution_count": 1
        }
      ]
    },
    {
      "cell_type": "code",
      "source": [
        "False"
      ],
      "metadata": {
        "id": "cPnjAthRkVi1",
        "colab": {
          "base_uri": "https://localhost:8080/"
        },
        "outputId": "080abc37-ca2e-4195-9ee5-29adc1e6a78e"
      },
      "execution_count": null,
      "outputs": [
        {
          "output_type": "execute_result",
          "data": {
            "text/plain": [
              "False"
            ]
          },
          "metadata": {},
          "execution_count": 2
        }
      ]
    },
    {
      "cell_type": "code",
      "source": [
        "3>1"
      ],
      "metadata": {
        "id": "KHoPVVmzILxu",
        "colab": {
          "base_uri": "https://localhost:8080/"
        },
        "outputId": "57e214cf-7def-47ce-e872-ffcfd7d22c6e"
      },
      "execution_count": null,
      "outputs": [
        {
          "output_type": "execute_result",
          "data": {
            "text/plain": [
              "True"
            ]
          },
          "metadata": {},
          "execution_count": 3
        }
      ]
    },
    {
      "cell_type": "code",
      "source": [
        "10==10 # == 같냐?"
      ],
      "metadata": {
        "id": "4eWtYWXIf3X0",
        "colab": {
          "base_uri": "https://localhost:8080/"
        },
        "outputId": "8c630708-6001-4f35-bbf1-005a3c55d7e3"
      },
      "execution_count": null,
      "outputs": [
        {
          "output_type": "execute_result",
          "data": {
            "text/plain": [
              "True"
            ]
          },
          "metadata": {},
          "execution_count": 4
        }
      ]
    },
    {
      "cell_type": "code",
      "source": [
        "10!=5 # !=다르냐?"
      ],
      "metadata": {
        "id": "H2ejHbZCf3aS",
        "colab": {
          "base_uri": "https://localhost:8080/"
        },
        "outputId": "7d222c03-828d-480f-f6e7-835db647981a"
      },
      "execution_count": null,
      "outputs": [
        {
          "output_type": "execute_result",
          "data": {
            "text/plain": [
              "True"
            ]
          },
          "metadata": {},
          "execution_count": 7
        }
      ]
    },
    {
      "cell_type": "code",
      "source": [
        "\"Python\"==\"Python\""
      ],
      "metadata": {
        "colab": {
          "base_uri": "https://localhost:8080/"
        },
        "id": "JB3-2EXJiT8B",
        "outputId": "cf370cc4-c691-4016-9d37-cbd14d410fa7"
      },
      "execution_count": null,
      "outputs": [
        {
          "output_type": "execute_result",
          "data": {
            "text/plain": [
              "True"
            ]
          },
          "metadata": {},
          "execution_count": 9
        }
      ]
    },
    {
      "cell_type": "code",
      "source": [
        "\"Python\"==\"python\" # 대소문자 구분함"
      ],
      "metadata": {
        "colab": {
          "base_uri": "https://localhost:8080/"
        },
        "id": "2HSATQruicOy",
        "outputId": "0d7f79e5-166f-49a7-9fc2-7e4f96d9c0c0"
      },
      "execution_count": null,
      "outputs": [
        {
          "output_type": "execute_result",
          "data": {
            "text/plain": [
              "False"
            ]
          },
          "metadata": {},
          "execution_count": 10
        }
      ]
    },
    {
      "cell_type": "code",
      "source": [
        "\"Python\"!=\"python\""
      ],
      "metadata": {
        "colab": {
          "base_uri": "https://localhost:8080/"
        },
        "id": "zeQuvBDSigZX",
        "outputId": "76be8dc9-6c23-4fee-a18a-aaadd8099ce6"
      },
      "execution_count": null,
      "outputs": [
        {
          "output_type": "execute_result",
          "data": {
            "text/plain": [
              "True"
            ]
          },
          "metadata": {},
          "execution_count": 11
        }
      ]
    },
    {
      "cell_type": "code",
      "source": [
        "10>20 # 10이 20을 \"초과\"하나?"
      ],
      "metadata": {
        "colab": {
          "base_uri": "https://localhost:8080/"
        },
        "id": "xRhuzbJyirbY",
        "outputId": "6a0f51b2-b4f1-4076-f8b9-980b999e4cfa"
      },
      "execution_count": null,
      "outputs": [
        {
          "output_type": "execute_result",
          "data": {
            "text/plain": [
              "False"
            ]
          },
          "metadata": {},
          "execution_count": 13
        }
      ]
    },
    {
      "cell_type": "code",
      "source": [
        "10<20 # 10이 20 \"미만\"인가?"
      ],
      "metadata": {
        "colab": {
          "base_uri": "https://localhost:8080/"
        },
        "id": "VXN9g0N3ivBB",
        "outputId": "045e5544-8946-4f97-ecbf-7a1a04db2ab1"
      },
      "execution_count": null,
      "outputs": [
        {
          "output_type": "execute_result",
          "data": {
            "text/plain": [
              "True"
            ]
          },
          "metadata": {},
          "execution_count": 14
        }
      ]
    },
    {
      "cell_type": "code",
      "source": [
        "10>=10 # 10이 10 \"이상\"인가?"
      ],
      "metadata": {
        "colab": {
          "base_uri": "https://localhost:8080/"
        },
        "id": "jXxCNk23iwBE",
        "outputId": "4f6bb5bf-53f8-44fa-b184-5c8879b752e6"
      },
      "execution_count": null,
      "outputs": [
        {
          "output_type": "execute_result",
          "data": {
            "text/plain": [
              "True"
            ]
          },
          "metadata": {},
          "execution_count": 16
        }
      ]
    },
    {
      "cell_type": "code",
      "source": [
        "10<=10 # 10이 10 \"이하\"인가?"
      ],
      "metadata": {
        "colab": {
          "base_uri": "https://localhost:8080/"
        },
        "id": "lq-NlhODixhn",
        "outputId": "ff05d9cb-3b00-410a-f50a-978ebde487c9"
      },
      "execution_count": null,
      "outputs": [
        {
          "output_type": "execute_result",
          "data": {
            "text/plain": [
              "True"
            ]
          },
          "metadata": {},
          "execution_count": 18
        }
      ]
    },
    {
      "cell_type": "code",
      "source": [
        "1==1.0"
      ],
      "metadata": {
        "colab": {
          "base_uri": "https://localhost:8080/"
        },
        "id": "CsH6u5nWjVhF",
        "outputId": "aa6b4261-3d2c-4ca8-a20d-9a5b63c85222"
      },
      "execution_count": null,
      "outputs": [
        {
          "output_type": "execute_result",
          "data": {
            "text/plain": [
              "True"
            ]
          },
          "metadata": {},
          "execution_count": 19
        }
      ]
    },
    {
      "cell_type": "code",
      "source": [
        "1 is 1.0 # 1은 정수객체 1.0은 실수객체로 서로 다름"
      ],
      "metadata": {
        "colab": {
          "base_uri": "https://localhost:8080/"
        },
        "id": "q_-nJhG4jWfx",
        "outputId": "9daf8155-6138-4112-802f-ec28a54e714a"
      },
      "execution_count": null,
      "outputs": [
        {
          "output_type": "execute_result",
          "data": {
            "text/plain": [
              "False"
            ]
          },
          "metadata": {},
          "execution_count": 20
        }
      ]
    },
    {
      "cell_type": "code",
      "source": [
        "1 is not 1.0"
      ],
      "metadata": {
        "colab": {
          "base_uri": "https://localhost:8080/"
        },
        "id": "unJm6wPrjWiM",
        "outputId": "5c837649-a643-4f92-b6f6-eb84738882a9"
      },
      "execution_count": null,
      "outputs": [
        {
          "output_type": "execute_result",
          "data": {
            "text/plain": [
              "True"
            ]
          },
          "metadata": {},
          "execution_count": 21
        }
      ]
    },
    {
      "cell_type": "code",
      "source": [
        "print(id(1)) # 메모리 주소확인 가능\n",
        "print(id(1.0))"
      ],
      "metadata": {
        "colab": {
          "base_uri": "https://localhost:8080/"
        },
        "id": "ZcGgEpA0jWkH",
        "outputId": "b728455b-a13d-41d6-c334-3c1a31887808"
      },
      "execution_count": null,
      "outputs": [
        {
          "output_type": "stream",
          "name": "stdout",
          "text": [
            "11122592\n",
            "139651801270896\n"
          ]
        }
      ]
    },
    {
      "cell_type": "code",
      "source": [
        "#AND 하나라도 False(0)이면 False(0)이 나옴\n",
        "print(True and True)\n",
        "print(True and False)\n",
        "print(False and True)\n",
        "print(False and False)"
      ],
      "metadata": {
        "colab": {
          "base_uri": "https://localhost:8080/"
        },
        "id": "5vhfddefjWl8",
        "outputId": "78ef59da-24bf-46d0-d257-9b324fd846b9"
      },
      "execution_count": null,
      "outputs": [
        {
          "output_type": "stream",
          "name": "stdout",
          "text": [
            "True\n",
            "False\n",
            "False\n",
            "False\n"
          ]
        }
      ]
    },
    {
      "cell_type": "code",
      "source": [
        "#OR 하나라도 True(1)이면 True(1)이 나옴\n",
        "print(True or True)\n",
        "print(True or False)\n",
        "print(False or True)\n",
        "print(False or False)"
      ],
      "metadata": {
        "colab": {
          "base_uri": "https://localhost:8080/"
        },
        "id": "ZwsOD7QPjWn9",
        "outputId": "6c220ed7-46a3-4c8c-d92f-53816512acae"
      },
      "execution_count": null,
      "outputs": [
        {
          "output_type": "stream",
          "name": "stdout",
          "text": [
            "True\n",
            "True\n",
            "True\n",
            "False\n"
          ]
        }
      ]
    },
    {
      "cell_type": "code",
      "source": [
        "#NOT 값이 반대가 됨\n",
        "print(not True)\n",
        "print(not False)"
      ],
      "metadata": {
        "colab": {
          "base_uri": "https://localhost:8080/"
        },
        "id": "V8qWfLQhjWpq",
        "outputId": "d8d1f916-1bc2-40bf-fa8e-d2c8f5ec30bc"
      },
      "execution_count": null,
      "outputs": [
        {
          "output_type": "stream",
          "name": "stdout",
          "text": [
            "False\n",
            "True\n"
          ]
        }
      ]
    },
    {
      "cell_type": "code",
      "source": [
        "#여기서 우선순위는 1.NOT 2.AND 3.OR 이다.\n",
        "#[{(not True) and False} or (not False)]\n",
        "not True and False or not False"
      ],
      "metadata": {
        "colab": {
          "base_uri": "https://localhost:8080/"
        },
        "id": "aaFI38bLjWrZ",
        "outputId": "53f5170c-493e-49c7-9006-c3473f81a80e"
      },
      "execution_count": null,
      "outputs": [
        {
          "output_type": "execute_result",
          "data": {
            "text/plain": [
              "{False}"
            ]
          },
          "metadata": {},
          "execution_count": 29
        }
      ]
    },
    {
      "cell_type": "code",
      "source": [
        "print(10==10 and 10!=5)\n",
        "print(10>5 or 10<3)\n",
        "print(not 10 >5)\n",
        "print(not 1 is 1.0)\n",
        "#비교 연산자(is, is not, ==, !=, <, >, <=, >=)이 먼저 \n",
        "#그후 논리연산자(not, and, or)"
      ],
      "metadata": {
        "colab": {
          "base_uri": "https://localhost:8080/"
        },
        "id": "oqMY93M2jWtb",
        "outputId": "7eac553d-0759-4cb7-e3c7-93917ea45ffc"
      },
      "execution_count": null,
      "outputs": [
        {
          "output_type": "stream",
          "name": "stdout",
          "text": [
            "True\n",
            "True\n",
            "False\n",
            "True\n"
          ]
        }
      ]
    },
    {
      "cell_type": "code",
      "source": [
        "print(bool(1))\n",
        "print(bool(0))\n",
        "print(bool(1.5))\n",
        "print(bool(\"False\"))\n",
        "print(bool(None))\n",
        "print(bool(0.0))\n",
        "# bool은 0.0, 0, None, \"\", '' 이외의 모든 것은 1(True)이다"
      ],
      "metadata": {
        "colab": {
          "base_uri": "https://localhost:8080/"
        },
        "id": "n98h9CdKo0mD",
        "outputId": "ba7a390d-940b-4cf0-f7e6-7378b964155c"
      },
      "execution_count": null,
      "outputs": [
        {
          "output_type": "stream",
          "name": "stdout",
          "text": [
            "True\n",
            "False\n",
            "True\n",
            "True\n",
            "False\n",
            "False\n"
          ]
        }
      ]
    },
    {
      "cell_type": "code",
      "source": [
        "print(False and True)     # False\n",
        "print(False and False)    # False\n",
        "# and는 T and T만 T이므로 F로 시작하면 무조건 F라고 결정함(단락평가)"
      ],
      "metadata": {
        "id": "liL5vbrIo0pA"
      },
      "execution_count": null,
      "outputs": []
    },
    {
      "cell_type": "code",
      "source": [
        "print(True or True)     # True\n",
        "print(True or False)    # True\n",
        "# or은 F or F만 F이므로 T로 시작하면 무조건 T라고 결정함(단락평가)"
      ],
      "metadata": {
        "id": "szBDwisHo0rW"
      },
      "execution_count": null,
      "outputs": []
    },
    {
      "cell_type": "code",
      "source": [
        "print(True and 'Python')\n",
        "# 논리연산자는 마지막으로 단락평가를 실시한 값은 그대로 반환함\n",
        "print('Python' and True)\n",
        "# 여기서는 단락평가를 안해서 True로 나옴\n",
        "print(0 and False)\n",
        "# 여기서는 단락평가를 해서 0으로 나옴"
      ],
      "metadata": {
        "colab": {
          "base_uri": "https://localhost:8080/"
        },
        "id": "thMalcKAo0xU",
        "outputId": "2703c263-4c07-4804-d27d-b0d2fb8ef1fe"
      },
      "execution_count": null,
      "outputs": [
        {
          "output_type": "stream",
          "name": "stdout",
          "text": [
            "Python\n",
            "True\n",
            "0\n"
          ]
        }
      ]
    },
    {
      "cell_type": "code",
      "source": [
        "#8.4 연습문제\n",
        "korean = 92\n",
        "english = 47\n",
        "mathematics = 86\n",
        "science = 81\n",
        "print(korean >= 50 and english >= 50 and mathematics >= 50 and science >= 50)"
      ],
      "metadata": {
        "colab": {
          "base_uri": "https://localhost:8080/"
        },
        "id": "TU6p7VdMo00a",
        "outputId": "77b83567-a287-4479-bd9b-3f68f6d303f0"
      },
      "execution_count": null,
      "outputs": [
        {
          "output_type": "stream",
          "name": "stdout",
          "text": [
            "False\n"
          ]
        }
      ]
    },
    {
      "cell_type": "code",
      "source": [
        "#8.5 심사문제\n",
        "a,b,c,d=map(int,input().split())\n",
        "print(a>=90 and b>80 and c>85 and d>=80)"
      ],
      "metadata": {
        "colab": {
          "base_uri": "https://localhost:8080/"
        },
        "id": "KET4OThqsXkv",
        "outputId": "5df5b392-d631-40e7-cb63-9bbe649b717c"
      },
      "execution_count": null,
      "outputs": [
        {
          "output_type": "stream",
          "name": "stdout",
          "text": [
            "90 80 85 80\n",
            "False\n"
          ]
        }
      ]
    },
    {
      "cell_type": "markdown",
      "source": [
        "# unit 9"
      ],
      "metadata": {
        "id": "kspzekrUs7TD"
      }
    },
    {
      "cell_type": "code",
      "source": [
        "hello=\"Hello, world!\"\n",
        "hello"
      ],
      "metadata": {
        "colab": {
          "base_uri": "https://localhost:8080/",
          "height": 36
        },
        "id": "XSFV8khqs9lR",
        "outputId": "0b76b1e9-6079-4716-d942-804056a95e8c"
      },
      "execution_count": null,
      "outputs": [
        {
          "output_type": "execute_result",
          "data": {
            "text/plain": [
              "'Hello, world!'"
            ],
            "application/vnd.google.colaboratory.intrinsic+json": {
              "type": "string"
            }
          },
          "metadata": {},
          "execution_count": 40
        }
      ]
    },
    {
      "cell_type": "code",
      "source": [
        "hello=\"안녕하세요\"\n",
        "hello"
      ],
      "metadata": {
        "colab": {
          "base_uri": "https://localhost:8080/",
          "height": 36
        },
        "id": "kaq1nm1ns9ny",
        "outputId": "cc748eb2-083c-4078-c8b3-fe4c36d48042"
      },
      "execution_count": null,
      "outputs": [
        {
          "output_type": "execute_result",
          "data": {
            "text/plain": [
              "'안녕하세요'"
            ],
            "application/vnd.google.colaboratory.intrinsic+json": {
              "type": "string"
            }
          },
          "metadata": {},
          "execution_count": 41
        }
      ]
    },
    {
      "cell_type": "code",
      "source": [
        "hello='''Hello, world!\n",
        "안녕하세요\n",
        "Python입니다.'''\n",
        "print(hello)"
      ],
      "metadata": {
        "colab": {
          "base_uri": "https://localhost:8080/"
        },
        "id": "HEmWGooms9qw",
        "outputId": "b9107e74-9826-4afc-bff3-22baeef723c9"
      },
      "execution_count": null,
      "outputs": [
        {
          "output_type": "stream",
          "name": "stdout",
          "text": [
            "Hello, world!\n",
            "안녕하세요\n",
            "Python입니다.\n"
          ]
        }
      ]
    },
    {
      "cell_type": "code",
      "source": [
        "s=\"Python isn't difficult\"\n",
        "s"
      ],
      "metadata": {
        "colab": {
          "base_uri": "https://localhost:8080/",
          "height": 36
        },
        "id": "sV12oZZ2s9tF",
        "outputId": "17d2126d-549a-42c4-cda7-4310fc77bd64"
      },
      "execution_count": null,
      "outputs": [
        {
          "output_type": "execute_result",
          "data": {
            "text/plain": [
              "\"Python isn't difficult\""
            ],
            "application/vnd.google.colaboratory.intrinsic+json": {
              "type": "string"
            }
          },
          "metadata": {},
          "execution_count": 44
        }
      ]
    },
    {
      "cell_type": "code",
      "source": [
        "s = 'He said \"Python is easy\"'\n",
        "s"
      ],
      "metadata": {
        "colab": {
          "base_uri": "https://localhost:8080/",
          "height": 36
        },
        "id": "KeQjqG79s9vY",
        "outputId": "e0a2e0b9-4ad8-48f8-f933-dc422cffacfd"
      },
      "execution_count": null,
      "outputs": [
        {
          "output_type": "execute_result",
          "data": {
            "text/plain": [
              "'He said \"Python is easy\"'"
            ],
            "application/vnd.google.colaboratory.intrinsic+json": {
              "type": "string"
            }
          },
          "metadata": {},
          "execution_count": 45
        }
      ]
    },
    {
      "cell_type": "code",
      "source": [
        "single_quote = '''\"안녕하세요.\"\n",
        "'파이썬'입니다.'''\n",
        " \n",
        "double_quote1 = \"\"\"\"Hello\"\n",
        "'Python'\"\"\"\n",
        " \n",
        "double_quote2 = \"\"\"Hello, 'Python'\"\"\" # 한 줄로 작성\n",
        " \n",
        "print(single_quote)\n",
        "print(double_quote1)\n",
        "print(double_quote2)"
      ],
      "metadata": {
        "colab": {
          "base_uri": "https://localhost:8080/"
        },
        "id": "0JN-tJ_Es9x7",
        "outputId": "11c11b68-f5a2-4255-a598-45dc5eb4936d"
      },
      "execution_count": null,
      "outputs": [
        {
          "output_type": "stream",
          "name": "stdout",
          "text": [
            "\"안녕하세요.\"\n",
            "'파이썬'입니다.\n",
            "\"Hello\"\n",
            "'Python'\n",
            "Hello, 'Python'\n"
          ]
        }
      ]
    },
    {
      "cell_type": "code",
      "source": [
        "'Python isn\\'t difficult' # \\를 붙이는 거는 이스케이프 문자"
      ],
      "metadata": {
        "colab": {
          "base_uri": "https://localhost:8080/",
          "height": 36
        },
        "id": "8PBnsmHhs90G",
        "outputId": "de1e0e74-f7cd-467a-fdec-5e72a6d36bdf"
      },
      "execution_count": null,
      "outputs": [
        {
          "output_type": "execute_result",
          "data": {
            "text/plain": [
              "\"Python isn't difficult\""
            ],
            "application/vnd.google.colaboratory.intrinsic+json": {
              "type": "string"
            }
          },
          "metadata": {},
          "execution_count": 47
        }
      ]
    },
    {
      "cell_type": "code",
      "source": [
        "'''Hello\n",
        "Python''' # print없이 출력했을 때 \\n이 나옴"
      ],
      "metadata": {
        "colab": {
          "base_uri": "https://localhost:8080/",
          "height": 36
        },
        "id": "Gds1bRzKzMrX",
        "outputId": "deae3a3a-d108-4145-ab4d-099dd304a9c3"
      },
      "execution_count": null,
      "outputs": [
        {
          "output_type": "execute_result",
          "data": {
            "text/plain": [
              "'Hello\\nPython'"
            ],
            "application/vnd.google.colaboratory.intrinsic+json": {
              "type": "string"
            }
          },
          "metadata": {},
          "execution_count": 48
        }
      ]
    },
    {
      "cell_type": "code",
      "source": [
        "#9.3 연습문제\n",
        "s='''Python is a programming language that lets you work quickly\n",
        "and\n",
        "integrate systems more effectively.'''\n",
        "print(s)"
      ],
      "metadata": {
        "colab": {
          "base_uri": "https://localhost:8080/"
        },
        "id": "faNqt_KOzs5F",
        "outputId": "090263e3-9657-4055-baa3-80ec3d6d8874"
      },
      "execution_count": null,
      "outputs": [
        {
          "output_type": "stream",
          "name": "stdout",
          "text": [
            "Python is a programming language that lets you work quickly\n",
            "and\n",
            "integrate systems more effectively.\n"
          ]
        }
      ]
    },
    {
      "cell_type": "code",
      "source": [
        "#9.4 심사문제\n",
        "s=\"\"\"'Python' is a \"programming language\"\n",
        "that lets you work quickly\n",
        "and\n",
        "integrate systems more effectively.\"\"\"\n",
        "print(s)"
      ],
      "metadata": {
        "colab": {
          "base_uri": "https://localhost:8080/"
        },
        "id": "BdOPl2nnz74F",
        "outputId": "f044d53b-25ee-47fe-d3cd-8a15c2771fea"
      },
      "execution_count": null,
      "outputs": [
        {
          "output_type": "stream",
          "name": "stdout",
          "text": [
            "'Python' is a \"programming language\"\n",
            "that lets you work quickly\n",
            "and\n",
            "integrate systems more effectively.\n"
          ]
        }
      ]
    },
    {
      "cell_type": "markdown",
      "source": [
        "# unit 10"
      ],
      "metadata": {
        "id": "nyCaXlUmmo14"
      }
    },
    {
      "cell_type": "code",
      "source": [
        "a=[38,21,53,62,19] # 리스트 생성\n",
        "a"
      ],
      "metadata": {
        "colab": {
          "base_uri": "https://localhost:8080/"
        },
        "id": "DTL5jEpDmt6I",
        "outputId": "274face3-d596-498f-e37a-c199b94398c6"
      },
      "execution_count": null,
      "outputs": [
        {
          "output_type": "execute_result",
          "data": {
            "text/plain": [
              "[38, 21, 53, 62, 19]"
            ]
          },
          "metadata": {},
          "execution_count": 1
        }
      ]
    },
    {
      "cell_type": "code",
      "source": [
        "person=[\"james\", 17, 175.3, True]\n",
        "person"
      ],
      "metadata": {
        "colab": {
          "base_uri": "https://localhost:8080/"
        },
        "id": "JJ-BZ0Rpmt8y",
        "outputId": "9ab60bfc-40cf-4682-9f3b-730a76394167"
      },
      "execution_count": null,
      "outputs": [
        {
          "output_type": "execute_result",
          "data": {
            "text/plain": [
              "['james', 17, 175.3, True]"
            ]
          },
          "metadata": {},
          "execution_count": 2
        }
      ]
    },
    {
      "cell_type": "code",
      "source": [
        "a=[] # 빈리스트 생성\n",
        "print(a)\n",
        "b=list() # 빈리스트 생성\n",
        "print(b)"
      ],
      "metadata": {
        "colab": {
          "base_uri": "https://localhost:8080/"
        },
        "id": "gl-veJEOmt_V",
        "outputId": "8ab49aff-0162-4e11-c9de-2c0aedc87243"
      },
      "execution_count": null,
      "outputs": [
        {
          "output_type": "stream",
          "name": "stdout",
          "text": [
            "[]\n",
            "[]\n"
          ]
        }
      ]
    },
    {
      "cell_type": "code",
      "source": [
        "range(10) # 0~9까지 생성"
      ],
      "metadata": {
        "colab": {
          "base_uri": "https://localhost:8080/"
        },
        "id": "GNAhv1tCmuBz",
        "outputId": "d15a6ee3-aaba-4e31-b41b-bf9a442b64f5"
      },
      "execution_count": null,
      "outputs": [
        {
          "output_type": "execute_result",
          "data": {
            "text/plain": [
              "range(0, 10)"
            ]
          },
          "metadata": {},
          "execution_count": 4
        }
      ]
    },
    {
      "cell_type": "code",
      "source": [
        "a=list(range(10)) # 0~9까지의 숫자를 리스트 안에 넣는다\n",
        "a"
      ],
      "metadata": {
        "colab": {
          "base_uri": "https://localhost:8080/"
        },
        "id": "bumI4PDumuEC",
        "outputId": "b09644a6-d12a-4089-b3f6-6750d50aa74a"
      },
      "execution_count": null,
      "outputs": [
        {
          "output_type": "execute_result",
          "data": {
            "text/plain": [
              "[0, 1, 2, 3, 4, 5, 6, 7, 8, 9]"
            ]
          },
          "metadata": {},
          "execution_count": 5
        }
      ]
    },
    {
      "cell_type": "code",
      "source": [
        "b=list(range(5,12)) # 5~11R까지 숫자를 리스트 안에 넣는다\n",
        "b"
      ],
      "metadata": {
        "colab": {
          "base_uri": "https://localhost:8080/"
        },
        "id": "7scQ84k_muGe",
        "outputId": "27306e17-f61c-4199-8898-f0739f1a92ff"
      },
      "execution_count": null,
      "outputs": [
        {
          "output_type": "execute_result",
          "data": {
            "text/plain": [
              "[5, 6, 7, 8, 9, 10, 11]"
            ]
          },
          "metadata": {},
          "execution_count": 7
        }
      ]
    },
    {
      "cell_type": "code",
      "source": [
        "c=list(range(-4,10,2)) # -4~9까지 2간격의 숫자들을 리스트 안에 넣는다\n",
        "c"
      ],
      "metadata": {
        "colab": {
          "base_uri": "https://localhost:8080/"
        },
        "id": "MBZ5Ji8VmuIz",
        "outputId": "09751705-2108-4835-f551-b3c447d86f73"
      },
      "execution_count": null,
      "outputs": [
        {
          "output_type": "execute_result",
          "data": {
            "text/plain": [
              "[-4, -2, 0, 2, 4, 6, 8]"
            ]
          },
          "metadata": {},
          "execution_count": 6
        }
      ]
    },
    {
      "cell_type": "code",
      "source": [
        "d=list(range(10,0,-1)) # 10~1까지 -1(작아짐)간격의 숫자들을 리스트 안에 넣는다\n",
        "d"
      ],
      "metadata": {
        "colab": {
          "base_uri": "https://localhost:8080/"
        },
        "id": "lx47OIapmuLL",
        "outputId": "6b44d0df-79fb-4f4a-b1fa-beadce855a45"
      },
      "execution_count": null,
      "outputs": [
        {
          "output_type": "execute_result",
          "data": {
            "text/plain": [
              "[10, 9, 8, 7, 6, 5, 4, 3, 2, 1]"
            ]
          },
          "metadata": {},
          "execution_count": 10
        }
      ]
    },
    {
      "cell_type": "code",
      "source": [
        "a=(38,21,53,62,19) # 튜플임 리스트 아님\n",
        "a # 튜플은 변경, 추가, 삭제가 불가능"
      ],
      "metadata": {
        "colab": {
          "base_uri": "https://localhost:8080/"
        },
        "id": "iGnT_Ehepzi7",
        "outputId": "a72c5e32-5a0c-4a76-f82f-3bcb859e72a6"
      },
      "execution_count": null,
      "outputs": [
        {
          "output_type": "execute_result",
          "data": {
            "text/plain": [
              "(38, 21, 53, 62, 19)"
            ]
          },
          "metadata": {},
          "execution_count": 11
        }
      ]
    },
    {
      "cell_type": "code",
      "source": [
        "a=38,21,53,62,19 #괄호의 사용없이도 생성가능\n",
        "a"
      ],
      "metadata": {
        "colab": {
          "base_uri": "https://localhost:8080/"
        },
        "id": "UxZqzwVvpzlu",
        "outputId": "8a4dcc41-2f10-4fad-bc09-3c8ec8387df4"
      },
      "execution_count": null,
      "outputs": [
        {
          "output_type": "execute_result",
          "data": {
            "text/plain": [
              "(38, 21, 53, 62, 19)"
            ]
          },
          "metadata": {},
          "execution_count": 12
        }
      ]
    },
    {
      "cell_type": "code",
      "source": [
        "person=(\"james\", 17, 175.3, True)\n",
        "person"
      ],
      "metadata": {
        "colab": {
          "base_uri": "https://localhost:8080/"
        },
        "id": "NPB_boSRpzok",
        "outputId": "451e1047-f91f-4c68-a5d8-4d0c6a9e8653"
      },
      "execution_count": null,
      "outputs": [
        {
          "output_type": "execute_result",
          "data": {
            "text/plain": [
              "('james', 17, 175.3, True)"
            ]
          },
          "metadata": {},
          "execution_count": 13
        }
      ]
    },
    {
      "cell_type": "code",
      "source": [
        "(38) # 요소가 1개 있는 튜플"
      ],
      "metadata": {
        "colab": {
          "base_uri": "https://localhost:8080/"
        },
        "id": "mGAYaYscpzrj",
        "outputId": "422508e4-910c-444d-b219-4ffb1af50225"
      },
      "execution_count": null,
      "outputs": [
        {
          "output_type": "execute_result",
          "data": {
            "text/plain": [
              "38"
            ]
          },
          "metadata": {},
          "execution_count": 14
        }
      ]
    },
    {
      "cell_type": "code",
      "source": [
        "(38, ) # 튜플형태를 유지하기 위한 문법"
      ],
      "metadata": {
        "colab": {
          "base_uri": "https://localhost:8080/"
        },
        "id": "s280i3a7pztG",
        "outputId": "7db16e00-9057-4e73-a97d-5aa3c1b85d37"
      },
      "execution_count": null,
      "outputs": [
        {
          "output_type": "execute_result",
          "data": {
            "text/plain": [
              "(38,)"
            ]
          },
          "metadata": {},
          "execution_count": 17
        }
      ]
    },
    {
      "cell_type": "code",
      "source": [
        "38,"
      ],
      "metadata": {
        "colab": {
          "base_uri": "https://localhost:8080/"
        },
        "id": "cOxk9W_cp0HH",
        "outputId": "b5a9d82c-a721-4cdc-f759-7b62b6aad344"
      },
      "execution_count": null,
      "outputs": [
        {
          "output_type": "execute_result",
          "data": {
            "text/plain": [
              "(38,)"
            ]
          },
          "metadata": {},
          "execution_count": 18
        }
      ]
    },
    {
      "cell_type": "code",
      "source": [
        "a=tuple(range(10))\n",
        "a"
      ],
      "metadata": {
        "colab": {
          "base_uri": "https://localhost:8080/"
        },
        "id": "RJgpMhlJrQKh",
        "outputId": "9e048b50-0c44-4ed1-b871-538d3feeb7f6"
      },
      "execution_count": null,
      "outputs": [
        {
          "output_type": "execute_result",
          "data": {
            "text/plain": [
              "(0, 1, 2, 3, 4, 5, 6, 7, 8, 9)"
            ]
          },
          "metadata": {},
          "execution_count": 20
        }
      ]
    },
    {
      "cell_type": "code",
      "source": [
        "b=tuple(range(5,12))\n",
        "b"
      ],
      "metadata": {
        "colab": {
          "base_uri": "https://localhost:8080/"
        },
        "id": "hn1Z6SuJrQNc",
        "outputId": "13cee6a4-cec9-4b61-be94-90daf60fd2ce"
      },
      "execution_count": null,
      "outputs": [
        {
          "output_type": "execute_result",
          "data": {
            "text/plain": [
              "(5, 6, 7, 8, 9, 10, 11)"
            ]
          },
          "metadata": {},
          "execution_count": 22
        }
      ]
    },
    {
      "cell_type": "code",
      "source": [
        "c=tuple(range(-4,10,2))\n",
        "c"
      ],
      "metadata": {
        "colab": {
          "base_uri": "https://localhost:8080/"
        },
        "id": "CTUFvNUHrQQs",
        "outputId": "49d7f0c6-d037-4306-e507-c9877bda61ef"
      },
      "execution_count": null,
      "outputs": [
        {
          "output_type": "execute_result",
          "data": {
            "text/plain": [
              "(-4, -2, 0, 2, 4, 6, 8)"
            ]
          },
          "metadata": {},
          "execution_count": 24
        }
      ]
    },
    {
      "cell_type": "code",
      "source": [
        "a=[1,2,3] # 리스트임(대괄호)\n",
        "tuple(a) # 튜플로 변경(소괄호)"
      ],
      "metadata": {
        "colab": {
          "base_uri": "https://localhost:8080/"
        },
        "id": "ihOmA3L3rQTb",
        "outputId": "1c0cff95-1cf4-4408-e90e-570285abcdde"
      },
      "execution_count": null,
      "outputs": [
        {
          "output_type": "execute_result",
          "data": {
            "text/plain": [
              "(1, 2, 3)"
            ]
          },
          "metadata": {},
          "execution_count": 25
        }
      ]
    },
    {
      "cell_type": "code",
      "source": [
        "b=(4,5,6) #튜플임(소괄호)\n",
        "list(b) #리스트로 변경(대괄호)"
      ],
      "metadata": {
        "colab": {
          "base_uri": "https://localhost:8080/"
        },
        "id": "eAv5lMKwru2_",
        "outputId": "90caeec3-a4df-4a61-c8e6-67375f4b4967"
      },
      "execution_count": null,
      "outputs": [
        {
          "output_type": "execute_result",
          "data": {
            "text/plain": [
              "[4, 5, 6]"
            ]
          },
          "metadata": {},
          "execution_count": 26
        }
      ]
    },
    {
      "cell_type": "code",
      "source": [
        "print(list('Hello')) # 리스트\n",
        "print(tuple('Hello')) # 튜플"
      ],
      "metadata": {
        "colab": {
          "base_uri": "https://localhost:8080/"
        },
        "id": "JujbDJzVru5Q",
        "outputId": "bd522460-b4b2-40fd-b40d-94ba8e98d919"
      },
      "execution_count": null,
      "outputs": [
        {
          "output_type": "stream",
          "name": "stdout",
          "text": [
            "['H', 'e', 'l', 'l', 'o']\n",
            "('H', 'e', 'l', 'l', 'o')\n"
          ]
        }
      ]
    },
    {
      "cell_type": "code",
      "source": [
        "a,b,c=[1,2,3] # 변수를 여러개 만듦\n",
        "print(a,b,c)\n",
        "d,e,f=(4,5,6) # 변수를 여러개 만듦\n",
        "print(d,e,f)"
      ],
      "metadata": {
        "colab": {
          "base_uri": "https://localhost:8080/"
        },
        "id": "I3Z4kBuYru7S",
        "outputId": "2d320e5f-35d9-4967-ae05-d7a5070af47d"
      },
      "execution_count": null,
      "outputs": [
        {
          "output_type": "stream",
          "name": "stdout",
          "text": [
            "1 2 3\n",
            "4 5 6\n"
          ]
        }
      ]
    },
    {
      "cell_type": "code",
      "source": [
        "x=[1,2,3]\n",
        "a,b,c = x # 리스트 언패킹(변수에 리스트를 할당하는 과정)\n",
        "print(a,b,c)\n",
        "y=[4,5,6]\n",
        "d,e,f= y # 튜플 언패킹(변수에 튜플를 할당하는 과정)\n",
        "print(d,e,f)"
      ],
      "metadata": {
        "colab": {
          "base_uri": "https://localhost:8080/"
        },
        "id": "P3d23ogoru9g",
        "outputId": "e01210fa-e577-4f20-a80c-a0319ff53f95"
      },
      "execution_count": null,
      "outputs": [
        {
          "output_type": "stream",
          "name": "stdout",
          "text": [
            "1 2 3\n",
            "4 5 6\n"
          ]
        }
      ]
    },
    {
      "cell_type": "code",
      "source": [
        "input().split()\n",
        "x=input().split()\n",
        "a,b=x\n",
        "print(a,b)"
      ],
      "metadata": {
        "colab": {
          "base_uri": "https://localhost:8080/"
        },
        "id": "B04zu9Hjru_j",
        "outputId": "08c746d2-c04a-48a8-f267-8c78c8d9af9c"
      },
      "execution_count": null,
      "outputs": [
        {
          "output_type": "stream",
          "name": "stdout",
          "text": [
            "10 20\n",
            "10 20\n",
            "10 20\n"
          ]
        }
      ]
    },
    {
      "cell_type": "code",
      "source": [
        "#10.4 연습문제\n",
        "a = list(range(5, -10, -2))\n",
        "print(a)"
      ],
      "metadata": {
        "colab": {
          "base_uri": "https://localhost:8080/"
        },
        "id": "li0uEjBprvBg",
        "outputId": "da2273c2-ea5d-41e5-bf08-4a4209a1f61d"
      },
      "execution_count": null,
      "outputs": [
        {
          "output_type": "stream",
          "name": "stdout",
          "text": [
            "[5, 3, 1, -1, -3, -5, -7, -9]\n"
          ]
        }
      ]
    },
    {
      "cell_type": "code",
      "source": [
        "#10.5 심사문제\n",
        "a=int(input())\n",
        "b=tuple(range(-10,10,a))\n",
        "print(b)"
      ],
      "metadata": {
        "colab": {
          "base_uri": "https://localhost:8080/"
        },
        "id": "lVoqwE2fwd_A",
        "outputId": "3bb9d38f-02bb-4e28-bb83-854679a3cd3f"
      },
      "execution_count": null,
      "outputs": [
        {
          "output_type": "stream",
          "name": "stdout",
          "text": [
            "3\n",
            "(-10, -7, -4, -1, 2, 5, 8)\n"
          ]
        }
      ]
    },
    {
      "cell_type": "markdown",
      "source": [
        "# uint 11"
      ],
      "metadata": {
        "id": "FTjWp11H0f34"
      }
    },
    {
      "cell_type": "code",
      "source": [
        "a = [0, 10, 20, 30, 40, 50, 60, 70, 80, 90]\n",
        "print(30 in a)\n",
        "print(100 in a)"
      ],
      "metadata": {
        "colab": {
          "base_uri": "https://localhost:8080/"
        },
        "id": "aWTYDzlBwv58",
        "outputId": "751815c2-9cdf-4bfc-b2b8-2581f3b9bf54"
      },
      "execution_count": 2,
      "outputs": [
        {
          "output_type": "stream",
          "name": "stdout",
          "text": [
            "True\n",
            "False\n"
          ]
        }
      ]
    },
    {
      "cell_type": "code",
      "source": [
        "a = [0, 10, 20, 30, 40, 50, 60, 70, 80, 90]\n",
        "print(100 not in a)\n",
        "print(30 not in a)"
      ],
      "metadata": {
        "colab": {
          "base_uri": "https://localhost:8080/"
        },
        "id": "uIAEfrR_w5SW",
        "outputId": "2e3709cf-37cf-4f25-c8d6-b5ab64e382c8"
      },
      "execution_count": 4,
      "outputs": [
        {
          "output_type": "stream",
          "name": "stdout",
          "text": [
            "True\n",
            "False\n"
          ]
        }
      ]
    },
    {
      "cell_type": "code",
      "source": [
        "print(43 in (38,76,43,62,19))\n",
        "print(1 in range(10))\n",
        "'P' in 'Hello, Python'"
      ],
      "metadata": {
        "colab": {
          "base_uri": "https://localhost:8080/"
        },
        "id": "5gZEbrzbyo-3",
        "outputId": "abe0c388-eaa9-452a-fd36-fa2afeaf6ce6"
      },
      "execution_count": 7,
      "outputs": [
        {
          "output_type": "stream",
          "name": "stdout",
          "text": [
            "True\n",
            "True\n"
          ]
        },
        {
          "output_type": "execute_result",
          "data": {
            "text/plain": [
              "True"
            ]
          },
          "metadata": {},
          "execution_count": 7
        }
      ]
    },
    {
      "cell_type": "code",
      "source": [
        "a = [0, 10, 20, 30]\n",
        "b = [9, 8, 7, 6]\n",
        "a + b"
      ],
      "metadata": {
        "colab": {
          "base_uri": "https://localhost:8080/"
        },
        "id": "faBhNi3Ty9WF",
        "outputId": "6f6ef2f4-3af2-40cf-9d64-72333bc55c12"
      },
      "execution_count": 8,
      "outputs": [
        {
          "output_type": "execute_result",
          "data": {
            "text/plain": [
              "[0, 10, 20, 30, 9, 8, 7, 6]"
            ]
          },
          "metadata": {},
          "execution_count": 8
        }
      ]
    },
    {
      "cell_type": "code",
      "source": [
        "range(0, 10) + range(10, 20)"
      ],
      "metadata": {
        "colab": {
          "base_uri": "https://localhost:8080/",
          "height": 176
        },
        "id": "M9YNlANjzI1v",
        "outputId": "e5da93c9-c155-4b2e-9be5-e2e9416967d8"
      },
      "execution_count": 9,
      "outputs": [
        {
          "output_type": "error",
          "ename": "TypeError",
          "evalue": "ignored",
          "traceback": [
            "\u001b[0;31m---------------------------------------------------------------------------\u001b[0m",
            "\u001b[0;31mTypeError\u001b[0m                                 Traceback (most recent call last)",
            "\u001b[0;32m<ipython-input-9-9721dc5d56b1>\u001b[0m in \u001b[0;36m<module>\u001b[0;34m\u001b[0m\n\u001b[0;32m----> 1\u001b[0;31m \u001b[0mrange\u001b[0m\u001b[0;34m(\u001b[0m\u001b[0;36m0\u001b[0m\u001b[0;34m,\u001b[0m \u001b[0;36m10\u001b[0m\u001b[0;34m)\u001b[0m \u001b[0;34m+\u001b[0m \u001b[0mrange\u001b[0m\u001b[0;34m(\u001b[0m\u001b[0;36m10\u001b[0m\u001b[0;34m,\u001b[0m \u001b[0;36m20\u001b[0m\u001b[0;34m)\u001b[0m\u001b[0;34m\u001b[0m\u001b[0;34m\u001b[0m\u001b[0m\n\u001b[0m",
            "\u001b[0;31mTypeError\u001b[0m: unsupported operand type(s) for +: 'range' and 'range'"
          ]
        }
      ]
    },
    {
      "cell_type": "code",
      "source": [
        "list(range(0, 10)) + list(range(10, 20))"
      ],
      "metadata": {
        "colab": {
          "base_uri": "https://localhost:8080/"
        },
        "id": "hdoQNYClzKMs",
        "outputId": "eaf2fe24-7bce-4055-f053-af50f1863573"
      },
      "execution_count": 11,
      "outputs": [
        {
          "output_type": "execute_result",
          "data": {
            "text/plain": [
              "[0, 1, 2, 3, 4, 5, 6, 7, 8, 9, 10, 11, 12, 13, 14, 15, 16, 17, 18, 19]"
            ]
          },
          "metadata": {},
          "execution_count": 11
        }
      ]
    },
    {
      "cell_type": "code",
      "source": [
        "tuple(range(0, 10)) + tuple(range(10, 20))"
      ],
      "metadata": {
        "colab": {
          "base_uri": "https://localhost:8080/"
        },
        "id": "2XNnZNHezNi_",
        "outputId": "a8ca739d-46cb-4139-8354-d673bf593512"
      },
      "execution_count": 12,
      "outputs": [
        {
          "output_type": "execute_result",
          "data": {
            "text/plain": [
              "(0, 1, 2, 3, 4, 5, 6, 7, 8, 9, 10, 11, 12, 13, 14, 15, 16, 17, 18, 19)"
            ]
          },
          "metadata": {},
          "execution_count": 12
        }
      ]
    },
    {
      "cell_type": "code",
      "source": [
        "'Hello, ' + 'world!'"
      ],
      "metadata": {
        "colab": {
          "base_uri": "https://localhost:8080/",
          "height": 36
        },
        "id": "8zySjoRZzPHy",
        "outputId": "6b8b726b-5171-4bb4-f0d9-b64dd763a84c"
      },
      "execution_count": 13,
      "outputs": [
        {
          "output_type": "execute_result",
          "data": {
            "text/plain": [
              "'Hello, world!'"
            ],
            "application/vnd.google.colaboratory.intrinsic+json": {
              "type": "string"
            }
          },
          "metadata": {},
          "execution_count": 13
        }
      ]
    },
    {
      "cell_type": "code",
      "source": [
        "print('Hello, ' + str(10)) \n",
        "print('Hello, ' + str(1.5)) "
      ],
      "metadata": {
        "colab": {
          "base_uri": "https://localhost:8080/"
        },
        "id": "d5pI7EoOzRKw",
        "outputId": "f641909f-3ab2-4bec-b8a9-11032e5c9e04"
      },
      "execution_count": 14,
      "outputs": [
        {
          "output_type": "stream",
          "name": "stdout",
          "text": [
            "Hello, 10\n",
            "Hello, 1.5\n"
          ]
        }
      ]
    },
    {
      "cell_type": "code",
      "source": [
        "[0, 10, 20, 30] * 3"
      ],
      "metadata": {
        "colab": {
          "base_uri": "https://localhost:8080/"
        },
        "id": "wVrV0_8r0YtN",
        "outputId": "457a7897-5e4e-4766-b841-bead1f92c502"
      },
      "execution_count": 15,
      "outputs": [
        {
          "output_type": "execute_result",
          "data": {
            "text/plain": [
              "[0, 10, 20, 30, 0, 10, 20, 30, 0, 10, 20, 30]"
            ]
          },
          "metadata": {},
          "execution_count": 15
        }
      ]
    },
    {
      "cell_type": "code",
      "source": [
        "range(0, 5, 2) * 3"
      ],
      "metadata": {
        "colab": {
          "base_uri": "https://localhost:8080/",
          "height": 176
        },
        "id": "IKdA9O7K0cSg",
        "outputId": "00de0b4d-96b9-488b-a72a-7298f3254e90"
      },
      "execution_count": 16,
      "outputs": [
        {
          "output_type": "error",
          "ename": "TypeError",
          "evalue": "ignored",
          "traceback": [
            "\u001b[0;31m---------------------------------------------------------------------------\u001b[0m",
            "\u001b[0;31mTypeError\u001b[0m                                 Traceback (most recent call last)",
            "\u001b[0;32m<ipython-input-16-0e14c54a9423>\u001b[0m in \u001b[0;36m<module>\u001b[0;34m\u001b[0m\n\u001b[0;32m----> 1\u001b[0;31m \u001b[0mrange\u001b[0m\u001b[0;34m(\u001b[0m\u001b[0;36m0\u001b[0m\u001b[0;34m,\u001b[0m \u001b[0;36m5\u001b[0m\u001b[0;34m,\u001b[0m \u001b[0;36m2\u001b[0m\u001b[0;34m)\u001b[0m \u001b[0;34m*\u001b[0m \u001b[0;36m3\u001b[0m\u001b[0;34m\u001b[0m\u001b[0;34m\u001b[0m\u001b[0m\n\u001b[0m",
            "\u001b[0;31mTypeError\u001b[0m: unsupported operand type(s) for *: 'range' and 'int'"
          ]
        }
      ]
    },
    {
      "cell_type": "code",
      "source": [
        "print(list(range(0, 5, 2)) * 3)\n",
        "print(tuple(range(0, 5, 2)) * 3)\n",
        "print('Hello, ' * 3)"
      ],
      "metadata": {
        "colab": {
          "base_uri": "https://localhost:8080/"
        },
        "id": "UKEPzi8f0mkD",
        "outputId": "80082cd8-efc2-4925-89db-512cff77fcdb"
      },
      "execution_count": 19,
      "outputs": [
        {
          "output_type": "stream",
          "name": "stdout",
          "text": [
            "[0, 2, 4, 0, 2, 4, 0, 2, 4]\n",
            "(0, 2, 4, 0, 2, 4, 0, 2, 4)\n",
            "Hello, Hello, Hello, \n"
          ]
        }
      ]
    },
    {
      "cell_type": "code",
      "source": [
        "a = [0, 10, 20, 30, 40, 50, 60, 70, 80, 90]\n",
        "len(a)"
      ],
      "metadata": {
        "colab": {
          "base_uri": "https://localhost:8080/"
        },
        "id": "j54Td7Uc03Up",
        "outputId": "f05b7aad-f7a5-41d0-fd58-f8b6067fd394"
      },
      "execution_count": 20,
      "outputs": [
        {
          "output_type": "execute_result",
          "data": {
            "text/plain": [
              "10"
            ]
          },
          "metadata": {},
          "execution_count": 20
        }
      ]
    },
    {
      "cell_type": "code",
      "source": [
        "b = (38, 76, 43, 62, 19)\n",
        "len(b)"
      ],
      "metadata": {
        "colab": {
          "base_uri": "https://localhost:8080/"
        },
        "id": "_atgHc4d0-RR",
        "outputId": "2a1aa734-605b-4f9d-c36f-4e3862f60fc4"
      },
      "execution_count": 22,
      "outputs": [
        {
          "output_type": "execute_result",
          "data": {
            "text/plain": [
              "5"
            ]
          },
          "metadata": {},
          "execution_count": 22
        }
      ]
    },
    {
      "cell_type": "code",
      "source": [
        "len(range(0, 10, 2))"
      ],
      "metadata": {
        "colab": {
          "base_uri": "https://localhost:8080/"
        },
        "id": "5bq9Fppi1FZ7",
        "outputId": "141c1a50-a5b6-41f0-d4f9-c13952a18847"
      },
      "execution_count": 23,
      "outputs": [
        {
          "output_type": "execute_result",
          "data": {
            "text/plain": [
              "5"
            ]
          },
          "metadata": {},
          "execution_count": 23
        }
      ]
    },
    {
      "cell_type": "code",
      "source": [
        "hello = 'Hello, world!'\n",
        "len(hello)"
      ],
      "metadata": {
        "colab": {
          "base_uri": "https://localhost:8080/"
        },
        "id": "FWpaTSmk1HnI",
        "outputId": "a5e9d9f2-fefd-4ac6-a89a-bbe36ca0138a"
      },
      "execution_count": 24,
      "outputs": [
        {
          "output_type": "execute_result",
          "data": {
            "text/plain": [
              "13"
            ]
          },
          "metadata": {},
          "execution_count": 24
        }
      ]
    },
    {
      "cell_type": "code",
      "source": [
        "hello = '안녕하세요'\n",
        "len(hello)"
      ],
      "metadata": {
        "colab": {
          "base_uri": "https://localhost:8080/"
        },
        "id": "ZTl-tuQ91L8-",
        "outputId": "4497b218-0704-4b7d-cbfa-18440b73aa1e"
      },
      "execution_count": 25,
      "outputs": [
        {
          "output_type": "execute_result",
          "data": {
            "text/plain": [
              "5"
            ]
          },
          "metadata": {},
          "execution_count": 25
        }
      ]
    },
    {
      "cell_type": "code",
      "source": [
        "hello = '안녕하세요'\n",
        "len(hello.encode('utf-8'))"
      ],
      "metadata": {
        "colab": {
          "base_uri": "https://localhost:8080/"
        },
        "id": "UMWTLkns1RMg",
        "outputId": "b1b5e10f-5554-4ea4-dfbf-76c80b713d80"
      },
      "execution_count": 26,
      "outputs": [
        {
          "output_type": "execute_result",
          "data": {
            "text/plain": [
              "15"
            ]
          },
          "metadata": {},
          "execution_count": 26
        }
      ]
    },
    {
      "cell_type": "code",
      "source": [
        "a = [38, 21, 53, 62, 19]\n",
        "print(a[0])  \n",
        "print(a[2])\n",
        "print(a[4])"
      ],
      "metadata": {
        "colab": {
          "base_uri": "https://localhost:8080/"
        },
        "id": "NyE21lY21WQm",
        "outputId": "6c2c69cd-0e4f-4b0b-c7d8-5214b8ac6ec1"
      },
      "execution_count": 27,
      "outputs": [
        {
          "output_type": "stream",
          "name": "stdout",
          "text": [
            "38\n",
            "53\n",
            "19\n"
          ]
        }
      ]
    },
    {
      "cell_type": "code",
      "source": [
        "b = (38, 21, 53, 62, 19)\n",
        "b[0]   "
      ],
      "metadata": {
        "colab": {
          "base_uri": "https://localhost:8080/"
        },
        "id": "4VnzsRjd1hir",
        "outputId": "ce39a4d1-a85b-447c-b2cf-714ba74a1b07"
      },
      "execution_count": 28,
      "outputs": [
        {
          "output_type": "execute_result",
          "data": {
            "text/plain": [
              "38"
            ]
          },
          "metadata": {},
          "execution_count": 28
        }
      ]
    },
    {
      "cell_type": "code",
      "source": [
        "r = range(0, 10, 2)\n",
        "r[2] "
      ],
      "metadata": {
        "colab": {
          "base_uri": "https://localhost:8080/"
        },
        "id": "jKRt1AAJ1jvI",
        "outputId": "0d08e228-43fc-47da-837b-1dc8d7c09050"
      },
      "execution_count": 30,
      "outputs": [
        {
          "output_type": "execute_result",
          "data": {
            "text/plain": [
              "4"
            ]
          },
          "metadata": {},
          "execution_count": 30
        }
      ]
    },
    {
      "cell_type": "code",
      "source": [
        "hello = 'Hello, world!'\n",
        "hello[7]  "
      ],
      "metadata": {
        "colab": {
          "base_uri": "https://localhost:8080/",
          "height": 36
        },
        "id": "_geWPdf61ms7",
        "outputId": "1db63c64-bfda-499e-e2b4-a2181de65aff"
      },
      "execution_count": 31,
      "outputs": [
        {
          "output_type": "execute_result",
          "data": {
            "text/plain": [
              "'w'"
            ],
            "application/vnd.google.colaboratory.intrinsic+json": {
              "type": "string"
            }
          },
          "metadata": {},
          "execution_count": 31
        }
      ]
    },
    {
      "cell_type": "code",
      "source": [
        "a = [38, 21, 53, 62, 19]\n",
        "a"
      ],
      "metadata": {
        "colab": {
          "base_uri": "https://localhost:8080/"
        },
        "id": "WwiT3gRy1rZ9",
        "outputId": "d2b8891a-265d-41c8-e2b2-6f4005db5fc2"
      },
      "execution_count": 32,
      "outputs": [
        {
          "output_type": "execute_result",
          "data": {
            "text/plain": [
              "[38, 21, 53, 62, 19]"
            ]
          },
          "metadata": {},
          "execution_count": 32
        }
      ]
    },
    {
      "cell_type": "code",
      "source": [
        "a = [38, 21, 53, 62, 19]\n",
        "a.__getitem__(1) # []의 메서드"
      ],
      "metadata": {
        "colab": {
          "base_uri": "https://localhost:8080/"
        },
        "id": "O0a3KWvX1xH9",
        "outputId": "e8ddb908-d420-42bc-af02-46e86440566e"
      },
      "execution_count": 33,
      "outputs": [
        {
          "output_type": "execute_result",
          "data": {
            "text/plain": [
              "21"
            ]
          },
          "metadata": {},
          "execution_count": 33
        }
      ]
    },
    {
      "cell_type": "code",
      "source": [
        "a = [38, 21, 53, 62, 19]\n",
        "print(a[-1])\n",
        "print(a[-5])"
      ],
      "metadata": {
        "colab": {
          "base_uri": "https://localhost:8080/"
        },
        "id": "FFDM-0uc19r5",
        "outputId": "7fe11fb6-3321-4c8b-a7b8-7a889a31569c"
      },
      "execution_count": 35,
      "outputs": [
        {
          "output_type": "stream",
          "name": "stdout",
          "text": [
            "19\n",
            "38\n"
          ]
        }
      ]
    },
    {
      "cell_type": "code",
      "source": [
        "b = (38, 21, 53, 62, 19)\n",
        "b[-1] "
      ],
      "metadata": {
        "colab": {
          "base_uri": "https://localhost:8080/"
        },
        "id": "z-t_5HrE2GOn",
        "outputId": "814bb754-101e-4f29-8f2e-2b1655955aa2"
      },
      "execution_count": 36,
      "outputs": [
        {
          "output_type": "execute_result",
          "data": {
            "text/plain": [
              "19"
            ]
          },
          "metadata": {},
          "execution_count": 36
        }
      ]
    },
    {
      "cell_type": "code",
      "source": [
        "r = range(0, 10, 2)\n",
        "r[-3]"
      ],
      "metadata": {
        "colab": {
          "base_uri": "https://localhost:8080/"
        },
        "id": "HQMT7Elb2JO7",
        "outputId": "02fa70c1-1df5-40c8-8fd8-b35abeaaeeff"
      },
      "execution_count": 37,
      "outputs": [
        {
          "output_type": "execute_result",
          "data": {
            "text/plain": [
              "4"
            ]
          },
          "metadata": {},
          "execution_count": 37
        }
      ]
    },
    {
      "cell_type": "code",
      "source": [
        "hello = 'Hello, world!'\n",
        "hello[-4]"
      ],
      "metadata": {
        "colab": {
          "base_uri": "https://localhost:8080/",
          "height": 36
        },
        "id": "a-6SKSHc2MDb",
        "outputId": "4d42a699-a7b4-43a3-85de-1ec71a20efb6"
      },
      "execution_count": 38,
      "outputs": [
        {
          "output_type": "execute_result",
          "data": {
            "text/plain": [
              "'r'"
            ],
            "application/vnd.google.colaboratory.intrinsic+json": {
              "type": "string"
            }
          },
          "metadata": {},
          "execution_count": 38
        }
      ]
    },
    {
      "cell_type": "code",
      "source": [
        "a = [38, 21, 53, 62, 19]\n",
        "a[5]"
      ],
      "metadata": {
        "colab": {
          "base_uri": "https://localhost:8080/",
          "height": 194
        },
        "id": "JfCMkKWI2OqN",
        "outputId": "78791e9c-8893-48f1-db0c-dad3eb807427"
      },
      "execution_count": 39,
      "outputs": [
        {
          "output_type": "error",
          "ename": "IndexError",
          "evalue": "ignored",
          "traceback": [
            "\u001b[0;31m---------------------------------------------------------------------------\u001b[0m",
            "\u001b[0;31mIndexError\u001b[0m                                Traceback (most recent call last)",
            "\u001b[0;32m<ipython-input-39-7d8d5b3fd137>\u001b[0m in \u001b[0;36m<module>\u001b[0;34m\u001b[0m\n\u001b[1;32m      1\u001b[0m \u001b[0ma\u001b[0m \u001b[0;34m=\u001b[0m \u001b[0;34m[\u001b[0m\u001b[0;36m38\u001b[0m\u001b[0;34m,\u001b[0m \u001b[0;36m21\u001b[0m\u001b[0;34m,\u001b[0m \u001b[0;36m53\u001b[0m\u001b[0;34m,\u001b[0m \u001b[0;36m62\u001b[0m\u001b[0;34m,\u001b[0m \u001b[0;36m19\u001b[0m\u001b[0;34m]\u001b[0m\u001b[0;34m\u001b[0m\u001b[0;34m\u001b[0m\u001b[0m\n\u001b[0;32m----> 2\u001b[0;31m \u001b[0ma\u001b[0m\u001b[0;34m[\u001b[0m\u001b[0;36m5\u001b[0m\u001b[0;34m]\u001b[0m\u001b[0;34m\u001b[0m\u001b[0;34m\u001b[0m\u001b[0m\n\u001b[0m",
            "\u001b[0;31mIndexError\u001b[0m: list index out of range"
          ]
        }
      ]
    },
    {
      "cell_type": "code",
      "source": [
        "a = [38, 21, 53, 62, 19]\n",
        "print(len(a))\n",
        "print(a[4])"
      ],
      "metadata": {
        "colab": {
          "base_uri": "https://localhost:8080/"
        },
        "id": "gnriesVQ2R2F",
        "outputId": "ae1c0b55-fc62-49d5-c833-946efe25d5ea"
      },
      "execution_count": 41,
      "outputs": [
        {
          "output_type": "stream",
          "name": "stdout",
          "text": [
            "5\n",
            "19\n"
          ]
        }
      ]
    },
    {
      "cell_type": "code",
      "source": [
        "a[len(a) - 1]"
      ],
      "metadata": {
        "colab": {
          "base_uri": "https://localhost:8080/"
        },
        "id": "03Wqn4tw2cyl",
        "outputId": "08c312de-37df-479d-ac5d-b1f712b3d16f"
      },
      "execution_count": 42,
      "outputs": [
        {
          "output_type": "execute_result",
          "data": {
            "text/plain": [
              "19"
            ]
          },
          "metadata": {},
          "execution_count": 42
        }
      ]
    },
    {
      "cell_type": "code",
      "source": [
        "a = [0, 0, 0, 0, 0]\n",
        "a[1] = 21\n",
        "a[2] = 53\n",
        "a[3] = 62\n",
        "a[4] = 19\n",
        "print(a)\n",
        "print(a[0])\n",
        "print(a[4])"
      ],
      "metadata": {
        "colab": {
          "base_uri": "https://localhost:8080/"
        },
        "id": "6Gc8ZF8a2gum",
        "outputId": "636aadd3-e9d9-4664-a82f-abba4f4adbfa"
      },
      "execution_count": 44,
      "outputs": [
        {
          "output_type": "stream",
          "name": "stdout",
          "text": [
            "[0, 21, 53, 62, 19]\n",
            "0\n",
            "19\n"
          ]
        }
      ]
    },
    {
      "cell_type": "code",
      "source": [
        "r = range(0, 10, 2)\n",
        "r[0] = 3\n",
        "# 시퀸스 자료형 중 튜플.range,문자열은 읽기 전용"
      ],
      "metadata": {
        "colab": {
          "base_uri": "https://localhost:8080/",
          "height": 213
        },
        "id": "Zd_YNlid2wwb",
        "outputId": "c9c58f20-c6b6-45c6-ef2e-d918842fe7fe"
      },
      "execution_count": 46,
      "outputs": [
        {
          "output_type": "error",
          "ename": "TypeError",
          "evalue": "ignored",
          "traceback": [
            "\u001b[0;31m---------------------------------------------------------------------------\u001b[0m",
            "\u001b[0;31mTypeError\u001b[0m                                 Traceback (most recent call last)",
            "\u001b[0;32m<ipython-input-46-0752a8b146d8>\u001b[0m in \u001b[0;36m<module>\u001b[0;34m\u001b[0m\n\u001b[1;32m      1\u001b[0m \u001b[0mr\u001b[0m \u001b[0;34m=\u001b[0m \u001b[0mrange\u001b[0m\u001b[0;34m(\u001b[0m\u001b[0;36m0\u001b[0m\u001b[0;34m,\u001b[0m \u001b[0;36m10\u001b[0m\u001b[0;34m,\u001b[0m \u001b[0;36m2\u001b[0m\u001b[0;34m)\u001b[0m\u001b[0;34m\u001b[0m\u001b[0;34m\u001b[0m\u001b[0m\n\u001b[0;32m----> 2\u001b[0;31m \u001b[0mr\u001b[0m\u001b[0;34m[\u001b[0m\u001b[0;36m0\u001b[0m\u001b[0;34m]\u001b[0m \u001b[0;34m=\u001b[0m \u001b[0;36m3\u001b[0m\u001b[0;34m\u001b[0m\u001b[0;34m\u001b[0m\u001b[0m\n\u001b[0m\u001b[1;32m      3\u001b[0m \u001b[0;31m# 시퀸스 자료형 중 튜플.range,문자열은 읽기 전용\u001b[0m\u001b[0;34m\u001b[0m\u001b[0;34m\u001b[0m\u001b[0;34m\u001b[0m\u001b[0m\n",
            "\u001b[0;31mTypeError\u001b[0m: 'range' object does not support item assignment"
          ]
        }
      ]
    },
    {
      "cell_type": "code",
      "source": [
        "a = [38, 21, 53, 62, 19]\n",
        "del a[2]\n",
        "a"
      ],
      "metadata": {
        "colab": {
          "base_uri": "https://localhost:8080/"
        },
        "id": "JicSpVIz28Zx",
        "outputId": "9a7cca0b-d0a1-4a36-bc71-6ee2d4ea158a"
      },
      "execution_count": 47,
      "outputs": [
        {
          "output_type": "execute_result",
          "data": {
            "text/plain": [
              "[38, 21, 62, 19]"
            ]
          },
          "metadata": {},
          "execution_count": 47
        }
      ]
    },
    {
      "cell_type": "code",
      "source": [
        "a = [0, 10, 20, 30, 40, 50, 60, 70, 80, 90]\n",
        "print(a[0:4])\n",
        "print(a[0:10])"
      ],
      "metadata": {
        "colab": {
          "base_uri": "https://localhost:8080/"
        },
        "id": "SCdPveAC3xPn",
        "outputId": "0be85f85-4087-4179-f76c-64b7355f0315"
      },
      "execution_count": 49,
      "outputs": [
        {
          "output_type": "stream",
          "name": "stdout",
          "text": [
            "[0, 10, 20, 30]\n",
            "[0, 10, 20, 30, 40, 50, 60, 70, 80, 90]\n"
          ]
        }
      ]
    },
    {
      "cell_type": "code",
      "source": [
        "a = [0, 10, 20, 30, 40, 50, 60, 70, 80, 90]\n",
        "print(a[1:1])\n",
        "print(a[1:2])"
      ],
      "metadata": {
        "colab": {
          "base_uri": "https://localhost:8080/"
        },
        "id": "31MJTDU44lmL",
        "outputId": "987c34f3-432c-4a41-d751-96e85a9cdbf5"
      },
      "execution_count": 51,
      "outputs": [
        {
          "output_type": "stream",
          "name": "stdout",
          "text": [
            "[]\n",
            "[10]\n"
          ]
        }
      ]
    },
    {
      "cell_type": "code",
      "source": [
        "a = [0, 10, 20, 30, 40, 50, 60, 70, 80, 90]\n",
        "print(a[4:7])\n",
        "print(a[4:-1])"
      ],
      "metadata": {
        "colab": {
          "base_uri": "https://localhost:8080/"
        },
        "id": "APwo0g464tC5",
        "outputId": "0a4e0b8b-0d9e-43f3-8b0f-d75db112991e"
      },
      "execution_count": 53,
      "outputs": [
        {
          "output_type": "stream",
          "name": "stdout",
          "text": [
            "[40, 50, 60]\n",
            "[40, 50, 60, 70, 80]\n"
          ]
        }
      ]
    },
    {
      "cell_type": "code",
      "source": [
        "a = [0, 10, 20, 30, 40, 50, 60, 70, 80, 90]\n",
        "print(a[2:8:3])\n",
        "print(a[2:9:3])"
      ],
      "metadata": {
        "colab": {
          "base_uri": "https://localhost:8080/"
        },
        "id": "Hp-8Ce8a416f",
        "outputId": "b03d48e6-7f87-42e7-8b01-1454b8a0976d"
      },
      "execution_count": 56,
      "outputs": [
        {
          "output_type": "stream",
          "name": "stdout",
          "text": [
            "[20, 50]\n",
            "[20, 50, 80]\n"
          ]
        }
      ]
    },
    {
      "cell_type": "code",
      "source": [
        "a = [0, 10, 20, 30, 40, 50, 60, 70, 80, 90]\n",
        "print(a[:7])\n",
        "print(a[7:])\n",
        "print(a[:])"
      ],
      "metadata": {
        "colab": {
          "base_uri": "https://localhost:8080/"
        },
        "id": "qYB_I2QB48gP",
        "outputId": "e498d8a6-9837-470b-8d42-553fceab555b"
      },
      "execution_count": 58,
      "outputs": [
        {
          "output_type": "stream",
          "name": "stdout",
          "text": [
            "[0, 10, 20, 30, 40, 50, 60]\n",
            "[70, 80, 90]\n",
            "[0, 10, 20, 30, 40, 50, 60, 70, 80, 90]\n"
          ]
        }
      ]
    },
    {
      "cell_type": "code",
      "source": [
        "a = [0, 10, 20, 30, 40, 50, 60, 70, 80, 90]\n",
        "print(a[:7:2])\n",
        "print(a[7::2])\n",
        "print(a[::2])\n",
        "print(a[::]) "
      ],
      "metadata": {
        "colab": {
          "base_uri": "https://localhost:8080/"
        },
        "id": "othdOvI45G-6",
        "outputId": "312ab3f4-666a-4de6-df8a-7383453cf728"
      },
      "execution_count": 63,
      "outputs": [
        {
          "output_type": "stream",
          "name": "stdout",
          "text": [
            "[0, 20, 40, 60]\n",
            "[70, 90]\n",
            "[0, 20, 40, 60, 80]\n",
            "[0, 10, 20, 30, 40, 50, 60, 70, 80, 90]\n"
          ]
        }
      ]
    },
    {
      "cell_type": "code",
      "source": [
        "a = [0, 10, 20, 30, 40, 50, 60, 70, 80, 90]\n",
        "print(a[5:1:-1])\n",
        "print(a[::-1])"
      ],
      "metadata": {
        "colab": {
          "base_uri": "https://localhost:8080/"
        },
        "id": "6ahK_swN5Tat",
        "outputId": "3d405ae5-11f3-4e4d-edac-d1a0b923613d"
      },
      "execution_count": 64,
      "outputs": [
        {
          "output_type": "stream",
          "name": "stdout",
          "text": [
            "[50, 40, 30, 20]\n",
            "[90, 80, 70, 60, 50, 40, 30, 20, 10, 0]\n"
          ]
        }
      ]
    },
    {
      "cell_type": "code",
      "source": [
        "a = [0, 10, 20, 30, 40, 50, 60, 70, 80, 90]\n",
        "print(a[0:len(a)])\n",
        "print(a[:len(a)])"
      ],
      "metadata": {
        "colab": {
          "base_uri": "https://localhost:8080/"
        },
        "id": "45ApcB625Zhh",
        "outputId": "47e2f65e-fb04-407f-993b-d7408ca86afb"
      },
      "execution_count": 66,
      "outputs": [
        {
          "output_type": "stream",
          "name": "stdout",
          "text": [
            "[0, 10, 20, 30, 40, 50, 60, 70, 80, 90]\n",
            "[0, 10, 20, 30, 40, 50, 60, 70, 80, 90]\n"
          ]
        }
      ]
    },
    {
      "cell_type": "code",
      "source": [
        "b = (0, 10, 20, 30, 40, 50, 60, 70, 80, 90)\n",
        "print(b[4:7])\n",
        "print(b[:7:2])"
      ],
      "metadata": {
        "colab": {
          "base_uri": "https://localhost:8080/"
        },
        "id": "Re0FMUTm5g62",
        "outputId": "f59ac979-119d-4059-d049-32e576421ccb"
      },
      "execution_count": 67,
      "outputs": [
        {
          "output_type": "stream",
          "name": "stdout",
          "text": [
            "(40, 50, 60)\n",
            "(0, 20, 40, 60)\n"
          ]
        }
      ]
    },
    {
      "cell_type": "code",
      "source": [
        "r = range(10)\n",
        "print(r)\n",
        "print(r[4:7])\n",
        "print(r[:7:2])"
      ],
      "metadata": {
        "colab": {
          "base_uri": "https://localhost:8080/"
        },
        "id": "aQdYqv8r5muK",
        "outputId": "e7cbc7d7-f1a8-45b9-f9dd-9b02ec0a3dd0"
      },
      "execution_count": 71,
      "outputs": [
        {
          "output_type": "stream",
          "name": "stdout",
          "text": [
            "range(0, 10)\n",
            "range(4, 7)\n",
            "range(0, 7, 2)\n"
          ]
        }
      ]
    },
    {
      "cell_type": "code",
      "source": [
        "list(r[:7:2])"
      ],
      "metadata": {
        "colab": {
          "base_uri": "https://localhost:8080/"
        },
        "id": "4ixhAdJg5-vj",
        "outputId": "7de5618a-46dc-4e0a-d00c-dc751f3733b0"
      },
      "execution_count": 72,
      "outputs": [
        {
          "output_type": "execute_result",
          "data": {
            "text/plain": [
              "[0, 2, 4, 6]"
            ]
          },
          "metadata": {},
          "execution_count": 72
        }
      ]
    },
    {
      "cell_type": "code",
      "source": [
        "hello = 'Hello, world!'\n",
        "print(hello[2:9])\n",
        "print(hello[2:])\n",
        "print(hello[:9:2])"
      ],
      "metadata": {
        "colab": {
          "base_uri": "https://localhost:8080/"
        },
        "id": "8Wz63Yz95_3N",
        "outputId": "c670af2c-c1f3-4012-94df-9999b7c5e2d4"
      },
      "execution_count": 75,
      "outputs": [
        {
          "output_type": "stream",
          "name": "stdout",
          "text": [
            "llo, wo\n",
            "llo, world!\n",
            "Hlo o\n"
          ]
        }
      ]
    },
    {
      "cell_type": "code",
      "source": [
        "print(range(10)[slice(4, 7, 2)])\n",
        "print(range(10).__getitem__(slice(4, 7, 2)))"
      ],
      "metadata": {
        "colab": {
          "base_uri": "https://localhost:8080/"
        },
        "id": "XnJAYxTT6P7o",
        "outputId": "d4dde957-a48e-43c9-8f33-70d296cb3ec4"
      },
      "execution_count": 77,
      "outputs": [
        {
          "output_type": "stream",
          "name": "stdout",
          "text": [
            "range(4, 7, 2)\n",
            "range(4, 7, 2)\n"
          ]
        }
      ]
    },
    {
      "cell_type": "code",
      "source": [
        "a = [0, 10, 20, 30, 40, 50, 60, 70, 80, 90]\n",
        "s = slice(4, 7)    # 인덱스 4부터 6까지 자르는 slice 객체 생성\n",
        "print(a[s])\n",
        "r=range(10)\n",
        "print(r[s])\n",
        "hello=\"Hello, world!\"\n",
        "print(hello[s])"
      ],
      "metadata": {
        "colab": {
          "base_uri": "https://localhost:8080/"
        },
        "id": "R6y-BZDx6W16",
        "outputId": "ee687d8a-90e7-469f-8f10-ba6e0b4d2983"
      },
      "execution_count": 78,
      "outputs": [
        {
          "output_type": "stream",
          "name": "stdout",
          "text": [
            "[40, 50, 60]\n",
            "range(4, 7)\n",
            "o, \n"
          ]
        }
      ]
    },
    {
      "cell_type": "code",
      "source": [
        "a = [0, 10, 20, 30, 40, 50, 60, 70, 80, 90]\n",
        "a[2:5] = ['a', 'b', 'c']\n",
        "print(a) "
      ],
      "metadata": {
        "colab": {
          "base_uri": "https://localhost:8080/"
        },
        "id": "CUbNUCt76pW4",
        "outputId": "886243f9-9eec-4024-c942-f19e7dfeef30"
      },
      "execution_count": 79,
      "outputs": [
        {
          "output_type": "stream",
          "name": "stdout",
          "text": [
            "[0, 10, 'a', 'b', 'c', 50, 60, 70, 80, 90]\n"
          ]
        }
      ]
    },
    {
      "cell_type": "code",
      "source": [
        "a = [0, 10, 20, 30, 40, 50, 60, 70, 80, 90]\n",
        "a[2:5] = ['a']\n",
        "print(a)"
      ],
      "metadata": {
        "colab": {
          "base_uri": "https://localhost:8080/"
        },
        "id": "voUjU4cE6x0m",
        "outputId": "bad9c3ae-5b2c-447a-a6e7-b3db2813de1c"
      },
      "execution_count": 80,
      "outputs": [
        {
          "output_type": "stream",
          "name": "stdout",
          "text": [
            "[0, 10, 'a', 50, 60, 70, 80, 90]\n"
          ]
        }
      ]
    },
    {
      "cell_type": "code",
      "source": [
        "a = [0, 10, 20, 30, 40, 50, 60, 70, 80, 90]\n",
        "a[2:5] = ['a', 'b', 'c', 'd', 'e']\n",
        "print(a)"
      ],
      "metadata": {
        "colab": {
          "base_uri": "https://localhost:8080/"
        },
        "id": "xdPHtR_m6_DU",
        "outputId": "d444e8be-0a5c-4135-c14e-76c57d22c2b6"
      },
      "execution_count": 81,
      "outputs": [
        {
          "output_type": "stream",
          "name": "stdout",
          "text": [
            "[0, 10, 'a', 'b', 'c', 'd', 'e', 50, 60, 70, 80, 90]\n"
          ]
        }
      ]
    },
    {
      "cell_type": "code",
      "source": [
        "a = [0, 10, 20, 30, 40, 50, 60, 70, 80, 90]\n",
        "a[2:8:2] = ['a', 'b', 'c']\n",
        "print(a)"
      ],
      "metadata": {
        "colab": {
          "base_uri": "https://localhost:8080/"
        },
        "id": "8Evi2oAW6_Ac",
        "outputId": "f17af081-37b1-4255-8a40-3f4ae3b1edea"
      },
      "execution_count": 82,
      "outputs": [
        {
          "output_type": "stream",
          "name": "stdout",
          "text": [
            "[0, 10, 'a', 30, 'b', 50, 'c', 70, 80, 90]\n"
          ]
        }
      ]
    },
    {
      "cell_type": "code",
      "source": [
        "a = [0, 10, 20, 30, 40, 50, 60, 70, 80, 90]\n",
        "del a[2:5]\n",
        "print(a)"
      ],
      "metadata": {
        "colab": {
          "base_uri": "https://localhost:8080/"
        },
        "id": "WIadQrrA6-91",
        "outputId": "ae90e097-e594-46a2-9145-e7e77277df52"
      },
      "execution_count": 83,
      "outputs": [
        {
          "output_type": "stream",
          "name": "stdout",
          "text": [
            "[0, 10, 50, 60, 70, 80, 90]\n"
          ]
        }
      ]
    },
    {
      "cell_type": "code",
      "source": [
        "a = [0, 10, 20, 30, 40, 50, 60, 70, 80, 90]\n",
        "del a[2:8:2]\n",
        "print(a)"
      ],
      "metadata": {
        "colab": {
          "base_uri": "https://localhost:8080/"
        },
        "id": "_cx4W-vs6-55",
        "outputId": "3afb3a9c-80d3-4133-a753-7e503ed1b546"
      },
      "execution_count": 84,
      "outputs": [
        {
          "output_type": "stream",
          "name": "stdout",
          "text": [
            "[0, 10, 30, 50, 70, 80, 90]\n"
          ]
        }
      ]
    },
    {
      "cell_type": "code",
      "source": [
        "#11.6 연습문제\n",
        "year = [2011, 2012, 2013, 2014, 2015, 2016, 2017, 2018]\n",
        "population = [10249679, 10195318, 10143645, 10103233, 10022181, 9930616, 9857426, 9838892]\n",
        "\n",
        "print(year[-3:])\n",
        "print(population[-3:])"
      ],
      "metadata": {
        "colab": {
          "base_uri": "https://localhost:8080/"
        },
        "id": "nrJwVEPh6-GB",
        "outputId": "d138b701-1711-4f70-c2f1-7597d2937e1a"
      },
      "execution_count": 87,
      "outputs": [
        {
          "output_type": "stream",
          "name": "stdout",
          "text": [
            "[2016, 2017, 2018]\n",
            "[9930616, 9857426, 9838892]\n"
          ]
        }
      ]
    },
    {
      "cell_type": "code",
      "source": [
        "#11.7 연습문제\n",
        "n = -32, 75, 97, -10, 9, 32, 4, -15, 0, 76, 14, 2\n",
        "print(n[1::2])"
      ],
      "metadata": {
        "colab": {
          "base_uri": "https://localhost:8080/"
        },
        "id": "W8cgC2NT69_9",
        "outputId": "226ecea8-ce10-4105-a21c-7fbd6ac33c1b"
      },
      "execution_count": 88,
      "outputs": [
        {
          "output_type": "stream",
          "name": "stdout",
          "text": [
            "(75, -10, 32, -15, 76, 2)\n"
          ]
        }
      ]
    },
    {
      "cell_type": "code",
      "source": [
        "#11.8 심사문제\n",
        "x = input().split()\n",
        "del x[-5:]\n",
        "print(tuple(x))"
      ],
      "metadata": {
        "colab": {
          "base_uri": "https://localhost:8080/"
        },
        "id": "wQpZkoNN693A",
        "outputId": "33924111-1fde-4382-fc10-4fd609dafc19"
      },
      "execution_count": 94,
      "outputs": [
        {
          "output_type": "stream",
          "name": "stdout",
          "text": [
            "1 2 3 4 5 6 7 8 9 10\n",
            "('1', '2', '3', '4', '5')\n"
          ]
        }
      ]
    },
    {
      "cell_type": "code",
      "source": [
        "#11.9 심사문제\n",
        "a=input()\n",
        "b=input()\n",
        "print(a[1::2]+b[::2])"
      ],
      "metadata": {
        "colab": {
          "base_uri": "https://localhost:8080/"
        },
        "id": "1GsJZlzA69yL",
        "outputId": "0be35e8d-68f3-4f2e-a45c-1dc619c0717c"
      },
      "execution_count": 96,
      "outputs": [
        {
          "output_type": "stream",
          "name": "stdout",
          "text": [
            "python\n",
            "python\n",
            "yhnpto\n"
          ]
        }
      ]
    },
    {
      "cell_type": "markdown",
      "source": [
        "#unit 12 "
      ],
      "metadata": {
        "id": "cPqCIcA5-Mgz"
      }
    },
    {
      "cell_type": "code",
      "source": [
        "lux = [490, 334, 550, 18.72]"
      ],
      "metadata": {
        "id": "fO98Bqah-f7N"
      },
      "execution_count": 97,
      "outputs": []
    },
    {
      "cell_type": "code",
      "source": [
        "lux = {'health': 490, 'mana': 334, 'melee': 550, 'armor': 18.72}"
      ],
      "metadata": {
        "id": "b-jqB5xv-hw_"
      },
      "execution_count": 98,
      "outputs": []
    },
    {
      "cell_type": "code",
      "source": [
        "lux = {'health': 490, 'mana': 334, 'melee': 550, 'armor': 18.72}\n",
        "lux"
      ],
      "metadata": {
        "colab": {
          "base_uri": "https://localhost:8080/"
        },
        "id": "Z4BOZ_ia-kWR",
        "outputId": "6b13577e-946b-425c-ebec-1a1a54a70d80"
      },
      "execution_count": 99,
      "outputs": [
        {
          "output_type": "execute_result",
          "data": {
            "text/plain": [
              "{'health': 490, 'mana': 334, 'melee': 550, 'armor': 18.72}"
            ]
          },
          "metadata": {},
          "execution_count": 99
        }
      ]
    },
    {
      "cell_type": "code",
      "source": [
        "lux = {'health': 490, 'health': 800, 'mana': 334, 'melee': 550, 'armor': 18.72}\n",
        "print(lux['health'])\n",
        "print(lux)"
      ],
      "metadata": {
        "colab": {
          "base_uri": "https://localhost:8080/"
        },
        "id": "tIeIMCbj-onA",
        "outputId": "4e527914-f7d4-4837-d4b2-8bfc65376e2c"
      },
      "execution_count": 101,
      "outputs": [
        {
          "output_type": "stream",
          "name": "stdout",
          "text": [
            "800\n",
            "{'health': 800, 'mana': 334, 'melee': 550, 'armor': 18.72}\n"
          ]
        }
      ]
    },
    {
      "cell_type": "code",
      "source": [
        "x = {[10, 20]: 100}"
      ],
      "metadata": {
        "colab": {
          "base_uri": "https://localhost:8080/",
          "height": 176
        },
        "id": "hbcGK9nO-2KT",
        "outputId": "ce28ec57-d16f-4a2e-ad73-f4d22d032142"
      },
      "execution_count": 102,
      "outputs": [
        {
          "output_type": "error",
          "ename": "TypeError",
          "evalue": "ignored",
          "traceback": [
            "\u001b[0;31m---------------------------------------------------------------------------\u001b[0m",
            "\u001b[0;31mTypeError\u001b[0m                                 Traceback (most recent call last)",
            "\u001b[0;32m<ipython-input-102-df1aded7ae36>\u001b[0m in \u001b[0;36m<module>\u001b[0;34m\u001b[0m\n\u001b[0;32m----> 1\u001b[0;31m \u001b[0mx\u001b[0m \u001b[0;34m=\u001b[0m \u001b[0;34m{\u001b[0m\u001b[0;34m[\u001b[0m\u001b[0;36m10\u001b[0m\u001b[0;34m,\u001b[0m \u001b[0;36m20\u001b[0m\u001b[0;34m]\u001b[0m\u001b[0;34m:\u001b[0m \u001b[0;36m100\u001b[0m\u001b[0;34m}\u001b[0m\u001b[0;34m\u001b[0m\u001b[0;34m\u001b[0m\u001b[0m\n\u001b[0m",
            "\u001b[0;31mTypeError\u001b[0m: unhashable type: 'list'"
          ]
        }
      ]
    },
    {
      "cell_type": "code",
      "source": [
        "x = {{'a': 10}: 100}"
      ],
      "metadata": {
        "colab": {
          "base_uri": "https://localhost:8080/",
          "height": 176
        },
        "id": "KbxlXv6K-2H3",
        "outputId": "f043e67d-3586-4796-9eee-45aa5bf5b14f"
      },
      "execution_count": 103,
      "outputs": [
        {
          "output_type": "error",
          "ename": "TypeError",
          "evalue": "ignored",
          "traceback": [
            "\u001b[0;31m---------------------------------------------------------------------------\u001b[0m",
            "\u001b[0;31mTypeError\u001b[0m                                 Traceback (most recent call last)",
            "\u001b[0;32m<ipython-input-103-159bfb38ec33>\u001b[0m in \u001b[0;36m<module>\u001b[0;34m\u001b[0m\n\u001b[0;32m----> 1\u001b[0;31m \u001b[0mx\u001b[0m \u001b[0;34m=\u001b[0m \u001b[0;34m{\u001b[0m\u001b[0;34m{\u001b[0m\u001b[0;34m'a'\u001b[0m\u001b[0;34m:\u001b[0m \u001b[0;36m10\u001b[0m\u001b[0;34m}\u001b[0m\u001b[0;34m:\u001b[0m \u001b[0;36m100\u001b[0m\u001b[0;34m}\u001b[0m\u001b[0;34m\u001b[0m\u001b[0;34m\u001b[0m\u001b[0m\n\u001b[0m",
            "\u001b[0;31mTypeError\u001b[0m: unhashable type: 'dict'"
          ]
        }
      ]
    },
    {
      "cell_type": "code",
      "source": [
        "x={}\n",
        "print(x)\n",
        "y=dict()\n",
        "print(y)"
      ],
      "metadata": {
        "colab": {
          "base_uri": "https://localhost:8080/"
        },
        "id": "t_CM8HEZ-2FR",
        "outputId": "a2d1a366-9330-4fe7-f744-a901d86675f2"
      },
      "execution_count": 106,
      "outputs": [
        {
          "output_type": "stream",
          "name": "stdout",
          "text": [
            "{}\n",
            "{}\n"
          ]
        }
      ]
    },
    {
      "cell_type": "code",
      "source": [
        "lux1 = dict(health=490, mana=334, melee=550, armor=18.72)\n",
        "lux1"
      ],
      "metadata": {
        "colab": {
          "base_uri": "https://localhost:8080/"
        },
        "id": "3cIp5-dt-2Cg",
        "outputId": "73c982a4-ca1f-4953-c571-a43293e0b9e3"
      },
      "execution_count": 108,
      "outputs": [
        {
          "output_type": "execute_result",
          "data": {
            "text/plain": [
              "{'health': 490, 'mana': 334, 'melee': 550, 'armor': 18.72}"
            ]
          },
          "metadata": {},
          "execution_count": 108
        }
      ]
    },
    {
      "cell_type": "code",
      "source": [
        "lux2 = dict(zip(['health', 'mana', 'melee', 'armor'], [490, 334, 550, 18.72]))    # zip 함수로\n",
        "lux2"
      ],
      "metadata": {
        "colab": {
          "base_uri": "https://localhost:8080/"
        },
        "id": "5ryOHNnN-1_y",
        "outputId": "a60c27b9-1c1e-408e-a2e1-1cc19acc67a3"
      },
      "execution_count": 110,
      "outputs": [
        {
          "output_type": "execute_result",
          "data": {
            "text/plain": [
              "{'health': 490, 'mana': 334, 'melee': 550, 'armor': 18.72}"
            ]
          },
          "metadata": {},
          "execution_count": 110
        }
      ]
    },
    {
      "cell_type": "code",
      "source": [
        "lux3 = dict([('health', 490), ('mana', 334), ('melee', 550), ('armor', 18.72)])\n",
        "lux3"
      ],
      "metadata": {
        "colab": {
          "base_uri": "https://localhost:8080/"
        },
        "id": "2B81N4uy-17F",
        "outputId": "c87fe030-fea1-48c6-8220-394bc01b1662"
      },
      "execution_count": 111,
      "outputs": [
        {
          "output_type": "execute_result",
          "data": {
            "text/plain": [
              "{'health': 490, 'mana': 334, 'melee': 550, 'armor': 18.72}"
            ]
          },
          "metadata": {},
          "execution_count": 111
        }
      ]
    },
    {
      "cell_type": "code",
      "source": [
        "lux4 = dict({'health': 490, 'mana': 334, 'melee': 550, 'armor': 18.72})     # dict 안에서\n",
        "lux4"
      ],
      "metadata": {
        "colab": {
          "base_uri": "https://localhost:8080/"
        },
        "id": "Pq742Cnq-14i",
        "outputId": "ef55d70a-a61c-41c6-f607-3a3c070d80d9"
      },
      "execution_count": 112,
      "outputs": [
        {
          "output_type": "execute_result",
          "data": {
            "text/plain": [
              "{'health': 490, 'mana': 334, 'melee': 550, 'armor': 18.72}"
            ]
          },
          "metadata": {},
          "execution_count": 112
        }
      ]
    },
    {
      "cell_type": "code",
      "source": [
        "lux = {'health': 490, 'mana': 334, 'melee': 550, 'armor': 18.72}\n",
        "print(lux['health'])\n",
        "print(lux['armor'])"
      ],
      "metadata": {
        "colab": {
          "base_uri": "https://localhost:8080/"
        },
        "id": "uje0Cuj9-12A",
        "outputId": "ae27ca0b-7e5c-483c-d647-543fc5e19425"
      },
      "execution_count": 114,
      "outputs": [
        {
          "output_type": "stream",
          "name": "stdout",
          "text": [
            "490\n",
            "18.72\n"
          ]
        }
      ]
    },
    {
      "cell_type": "code",
      "source": [
        "lux = {'health': 490, 'mana': 334, 'melee': 550, 'armor': 18.72}\n",
        "print(lux)"
      ],
      "metadata": {
        "colab": {
          "base_uri": "https://localhost:8080/"
        },
        "id": "wTpI_bIi-1zO",
        "outputId": "46f2a06b-e00f-4a94-ca43-2bd08b161154"
      },
      "execution_count": 115,
      "outputs": [
        {
          "output_type": "stream",
          "name": "stdout",
          "text": [
            "{'health': 490, 'mana': 334, 'melee': 550, 'armor': 18.72}\n"
          ]
        }
      ]
    },
    {
      "cell_type": "code",
      "source": [
        "lux = {'health': 490, 'mana': 334, 'melee': 550, 'armor': 18.72}\n",
        "lux['health'] = 2037    # 키 'health'의 값변경\n",
        "lux['mana'] = 1184      # 키 'mana'의 값변경\n",
        "print(lux)"
      ],
      "metadata": {
        "colab": {
          "base_uri": "https://localhost:8080/"
        },
        "id": "ila71vh3BecO",
        "outputId": "24756370-0295-42df-b2de-38ba079e029a"
      },
      "execution_count": 116,
      "outputs": [
        {
          "output_type": "stream",
          "name": "stdout",
          "text": [
            "{'health': 2037, 'mana': 1184, 'melee': 550, 'armor': 18.72}\n"
          ]
        }
      ]
    },
    {
      "cell_type": "code",
      "source": [
        "lux['mana_regen'] = 3.28    # 키 'mana_regen'을 추가하고 값 3.28 할당\n",
        "lux"
      ],
      "metadata": {
        "colab": {
          "base_uri": "https://localhost:8080/"
        },
        "id": "Fb1MYwabBeZX",
        "outputId": "7323f02e-ac0c-4fc9-b665-31ae1f6186d3"
      },
      "execution_count": 117,
      "outputs": [
        {
          "output_type": "execute_result",
          "data": {
            "text/plain": [
              "{'health': 2037,\n",
              " 'mana': 1184,\n",
              " 'melee': 550,\n",
              " 'armor': 18.72,\n",
              " 'mana_regen': 3.28}"
            ]
          },
          "metadata": {},
          "execution_count": 117
        }
      ]
    },
    {
      "cell_type": "code",
      "source": [
        "lux = {'health': 490, 'mana': 334, 'melee': 550, 'armor': 18.72}\n",
        "lux['attack_speed']"
      ],
      "metadata": {
        "colab": {
          "base_uri": "https://localhost:8080/",
          "height": 194
        },
        "id": "0T25HhiVBeW_",
        "outputId": "4a17362f-25b7-4ac1-f8dc-9d0e7bee21a4"
      },
      "execution_count": 118,
      "outputs": [
        {
          "output_type": "error",
          "ename": "KeyError",
          "evalue": "ignored",
          "traceback": [
            "\u001b[0;31m---------------------------------------------------------------------------\u001b[0m",
            "\u001b[0;31mKeyError\u001b[0m                                  Traceback (most recent call last)",
            "\u001b[0;32m<ipython-input-118-82a3350a7b6e>\u001b[0m in \u001b[0;36m<module>\u001b[0;34m\u001b[0m\n\u001b[1;32m      1\u001b[0m \u001b[0mlux\u001b[0m \u001b[0;34m=\u001b[0m \u001b[0;34m{\u001b[0m\u001b[0;34m'health'\u001b[0m\u001b[0;34m:\u001b[0m \u001b[0;36m490\u001b[0m\u001b[0;34m,\u001b[0m \u001b[0;34m'mana'\u001b[0m\u001b[0;34m:\u001b[0m \u001b[0;36m334\u001b[0m\u001b[0;34m,\u001b[0m \u001b[0;34m'melee'\u001b[0m\u001b[0;34m:\u001b[0m \u001b[0;36m550\u001b[0m\u001b[0;34m,\u001b[0m \u001b[0;34m'armor'\u001b[0m\u001b[0;34m:\u001b[0m \u001b[0;36m18.72\u001b[0m\u001b[0;34m}\u001b[0m\u001b[0;34m\u001b[0m\u001b[0;34m\u001b[0m\u001b[0m\n\u001b[0;32m----> 2\u001b[0;31m \u001b[0mlux\u001b[0m\u001b[0;34m[\u001b[0m\u001b[0;34m'attack_speed'\u001b[0m\u001b[0;34m]\u001b[0m\u001b[0;34m\u001b[0m\u001b[0;34m\u001b[0m\u001b[0m\n\u001b[0m",
            "\u001b[0;31mKeyError\u001b[0m: 'attack_speed'"
          ]
        }
      ]
    },
    {
      "cell_type": "code",
      "source": [
        "lux = {'health': 490, 'mana': 334, 'melee': 550, 'armor': 18.72}\n",
        "print('health' in lux)\n",
        "print('attack_speed' in lux)"
      ],
      "metadata": {
        "colab": {
          "base_uri": "https://localhost:8080/"
        },
        "id": "JQEwhiLSBeUU",
        "outputId": "263d302f-95f8-45e2-b5f9-974844b73d2d"
      },
      "execution_count": 119,
      "outputs": [
        {
          "output_type": "stream",
          "name": "stdout",
          "text": [
            "True\n",
            "False\n"
          ]
        }
      ]
    },
    {
      "cell_type": "code",
      "source": [
        "print('attack_speed' not in lux)\n",
        "print('health' not in lux)"
      ],
      "metadata": {
        "colab": {
          "base_uri": "https://localhost:8080/"
        },
        "id": "KRfqIV-nBeSE",
        "outputId": "5bc8de72-01a9-4593-ad58-bc5c2c49e189"
      },
      "execution_count": 120,
      "outputs": [
        {
          "output_type": "stream",
          "name": "stdout",
          "text": [
            "True\n",
            "False\n"
          ]
        }
      ]
    },
    {
      "cell_type": "code",
      "source": [
        "lux = {'health': 490, 'mana': 334, 'melee': 550, 'armor': 18.72}\n",
        "print(len(lux))\n",
        "print(len({'health': 490, 'mana': 334, 'melee': 550, 'armor': 18.72}))"
      ],
      "metadata": {
        "colab": {
          "base_uri": "https://localhost:8080/"
        },
        "id": "SEBAFkGmBePF",
        "outputId": "df511627-c396-4f22-f6af-89c4d99979c1"
      },
      "execution_count": 121,
      "outputs": [
        {
          "output_type": "stream",
          "name": "stdout",
          "text": [
            "4\n",
            "4\n"
          ]
        }
      ]
    },
    {
      "cell_type": "code",
      "source": [
        "#12.4 연습문제\n",
        "camille = {\n",
        "    'health': 575.6,\n",
        "    'health_regen': 1.7,\n",
        "    'mana': 338.8,\n",
        "    'mana_regen': 1.63,\n",
        "    'melee': 125,\n",
        "    'attack_damage': 60,\n",
        "    'attack_speed': 0.625,\n",
        "    'armor': 26,\n",
        "    'magic_resistance': 32.1,\n",
        "    'movement_speed': 340\n",
        "}\n",
        "print(camille['health'])\n",
        "print(camille['movement_speed'])"
      ],
      "metadata": {
        "colab": {
          "base_uri": "https://localhost:8080/"
        },
        "id": "jVDcDOfcBeMl",
        "outputId": "7da25ee1-1681-4704-99b6-2133cc977804"
      },
      "execution_count": 122,
      "outputs": [
        {
          "output_type": "stream",
          "name": "stdout",
          "text": [
            "575.6\n",
            "340\n"
          ]
        }
      ]
    },
    {
      "cell_type": "code",
      "source": [
        "#12.5 심사문제\n",
        "a=input().split()\n",
        "b=map(float,input().split())\n",
        "c=dict(zip(a,b))\n",
        "print(c)"
      ],
      "metadata": {
        "colab": {
          "base_uri": "https://localhost:8080/"
        },
        "id": "PZ5w06rkBeJ7",
        "outputId": "f4973a8c-ed60-43c2-a923-090d4d1f442e"
      },
      "execution_count": 123,
      "outputs": [
        {
          "output_type": "stream",
          "name": "stdout",
          "text": [
            "health health_regen mana mana_regen\n",
            "575.6 1.7 338.8 1.63\n",
            "{'health': 575.6, 'health_regen': 1.7, 'mana': 338.8, 'mana_regen': 1.63}\n"
          ]
        }
      ]
    },
    {
      "cell_type": "markdown",
      "source": [
        "# unit 13"
      ],
      "metadata": {
        "id": "OY6YvUG0GLFZ"
      }
    },
    {
      "cell_type": "code",
      "source": [
        "x=10\n",
        "if x==10:\n",
        "  print('10입니다.')"
      ],
      "metadata": {
        "colab": {
          "base_uri": "https://localhost:8080/"
        },
        "id": "axzV-Z6MBeHU",
        "outputId": "fbd4a2a1-c5f0-44ce-8d07-8bee5f4b1f15"
      },
      "execution_count": 124,
      "outputs": [
        {
          "output_type": "stream",
          "name": "stdout",
          "text": [
            "10입니다.\n"
          ]
        }
      ]
    },
    {
      "cell_type": "code",
      "source": [
        "x = 10\n",
        "if x == 10:\n",
        "     pass"
      ],
      "metadata": {
        "id": "cq-F1zQXBeEN"
      },
      "execution_count": 125,
      "outputs": []
    },
    {
      "cell_type": "code",
      "source": [
        "x = 10\n",
        "if x == 10:\n",
        "    print('x에 들어있는 숫자는')\n",
        "    print('10입니다.')"
      ],
      "metadata": {
        "colab": {
          "base_uri": "https://localhost:8080/"
        },
        "id": "1GgEAyewBeB3",
        "outputId": "6cad53ee-5867-4cf8-92ed-171b0348bd9a"
      },
      "execution_count": 129,
      "outputs": [
        {
          "output_type": "stream",
          "name": "stdout",
          "text": [
            "x에 들어있는 숫자는\n",
            "10입니다.\n"
          ]
        }
      ]
    },
    {
      "cell_type": "code",
      "source": [
        "x = 10\n",
        "if x == 10:\n",
        "     print('x에 들어있는 숫자는')\n",
        "print ('10입니다.')"
      ],
      "metadata": {
        "colab": {
          "base_uri": "https://localhost:8080/"
        },
        "id": "Yy8BEyFfBd-z",
        "outputId": "6ccbb67e-2ab7-4507-8ecc-7d200dcda269"
      },
      "execution_count": 130,
      "outputs": [
        {
          "output_type": "stream",
          "name": "stdout",
          "text": [
            "x에 들어있는 숫자는\n",
            "10입니다.\n"
          ]
        }
      ]
    },
    {
      "cell_type": "code",
      "source": [
        "x = 5         \n",
        "if x == 10:    \n",
        "     print('x에 들어있는 숫자는')\n",
        "print ('10입니다.')"
      ],
      "metadata": {
        "colab": {
          "base_uri": "https://localhost:8080/"
        },
        "id": "QeUPBzYDGx6R",
        "outputId": "99f9cf06-c1ac-4627-bb5f-2dc76ff00612"
      },
      "execution_count": 131,
      "outputs": [
        {
          "output_type": "stream",
          "name": "stdout",
          "text": [
            "10입니다.\n"
          ]
        }
      ]
    },
    {
      "cell_type": "code",
      "source": [
        "x = 15\n",
        "if x >= 10:\n",
        "     print('10 이상입니다.')\n",
        "     if x == 15:\n",
        "         print('15입니다.')\n",
        "     if x == 20:\n",
        "         print('20입니다.')"
      ],
      "metadata": {
        "colab": {
          "base_uri": "https://localhost:8080/"
        },
        "id": "GtFBq7fvGx3r",
        "outputId": "4af9da93-ec57-40c8-8485-78d0194662e9"
      },
      "execution_count": 132,
      "outputs": [
        {
          "output_type": "stream",
          "name": "stdout",
          "text": [
            "10 이상입니다.\n",
            "15입니다.\n"
          ]
        }
      ]
    },
    {
      "cell_type": "code",
      "source": [
        "if x >= 10:\n",
        "    print('10 이상입니다.')"
      ],
      "metadata": {
        "colab": {
          "base_uri": "https://localhost:8080/"
        },
        "id": "VmPZ2s7WGxhq",
        "outputId": "f9c2dc59-ab70-43c9-c6c8-6e924166a529"
      },
      "execution_count": 133,
      "outputs": [
        {
          "output_type": "stream",
          "name": "stdout",
          "text": [
            "10 이상입니다.\n"
          ]
        }
      ]
    },
    {
      "cell_type": "code",
      "source": [
        "if x >= 10:\n",
        "    print('10 이상입니다.')\n",
        "    if x == 15:\n",
        "        print('15입니다.')\n",
        "    if x == 20:\n",
        "        print('20입니다.') "
      ],
      "metadata": {
        "colab": {
          "base_uri": "https://localhost:8080/"
        },
        "id": "h0vzUCHzGxfJ",
        "outputId": "b55f0e41-51a0-42a8-d979-d71c8e830d20"
      },
      "execution_count": 134,
      "outputs": [
        {
          "output_type": "stream",
          "name": "stdout",
          "text": [
            "10 이상입니다.\n",
            "15입니다.\n"
          ]
        }
      ]
    },
    {
      "cell_type": "code",
      "source": [
        "x = int(input())          \n",
        "if x == 10:           \n",
        "    print('10입니다.')    \n",
        "if x == 20:               \n",
        "    print('20입니다.')"
      ],
      "metadata": {
        "colab": {
          "base_uri": "https://localhost:8080/"
        },
        "id": "HoD3TfTuGxco",
        "outputId": "b57ec441-5003-4b94-8b09-d91c141b8f4a"
      },
      "execution_count": 135,
      "outputs": [
        {
          "output_type": "stream",
          "name": "stdout",
          "text": [
            "10\n",
            "10입니다.\n"
          ]
        }
      ]
    },
    {
      "cell_type": "code",
      "source": [
        "#13.6 연습문제\n",
        "x=5\n",
        "if x!=10:\n",
        "  print('ok')"
      ],
      "metadata": {
        "colab": {
          "base_uri": "https://localhost:8080/"
        },
        "id": "1ne36IjxGxZ_",
        "outputId": "20e614d0-8ac0-462b-aa79-80738f9afb70"
      },
      "execution_count": 136,
      "outputs": [
        {
          "output_type": "stream",
          "name": "stdout",
          "text": [
            "ok\n"
          ]
        }
      ]
    },
    {
      "cell_type": "code",
      "source": [
        "#13.7 심사문제\n",
        "a=int(input())\n",
        "b=input()\n",
        "if b=='Cash3000':\n",
        "  a-=3000\n",
        "else :\n",
        "  a-=5000\n",
        "print(a)"
      ],
      "metadata": {
        "colab": {
          "base_uri": "https://localhost:8080/"
        },
        "id": "tPQdu8rAGxXX",
        "outputId": "9804a04c-d96e-4a65-910f-8f572da73d66"
      },
      "execution_count": 137,
      "outputs": [
        {
          "output_type": "stream",
          "name": "stdout",
          "text": [
            "27000\n",
            "Cash3000\n",
            "24000\n"
          ]
        }
      ]
    },
    {
      "cell_type": "markdown",
      "source": [
        "# unit 14"
      ],
      "metadata": {
        "id": "FxMy0OfnJtkC"
      }
    },
    {
      "cell_type": "code",
      "source": [
        "x= 5\n",
        "if x == 10:\n",
        "     print('10입니다.')\n",
        "else:\n",
        "     print('10이 아닙니다.')"
      ],
      "metadata": {
        "colab": {
          "base_uri": "https://localhost:8080/"
        },
        "id": "GhTwqTuaGxUn",
        "outputId": "ed5daedc-a0e5-4fd2-e62e-028006258862"
      },
      "execution_count": 138,
      "outputs": [
        {
          "output_type": "stream",
          "name": "stdout",
          "text": [
            "10이 아닙니다.\n"
          ]
        }
      ]
    },
    {
      "cell_type": "code",
      "source": [
        "x = 5\n",
        "if x == 10:\n",
        "    y = x\n",
        "else:\n",
        "    y = 0"
      ],
      "metadata": {
        "id": "9crWtUbkJ4d_"
      },
      "execution_count": 139,
      "outputs": []
    },
    {
      "cell_type": "code",
      "source": [
        "x = 5\n",
        "y = x if x == 10 else 0\n",
        "y"
      ],
      "metadata": {
        "colab": {
          "base_uri": "https://localhost:8080/"
        },
        "id": "BsNxB0ChJ4bx",
        "outputId": "eb7f890b-15d0-4f01-ffa0-9a11d9b8c324"
      },
      "execution_count": 140,
      "outputs": [
        {
          "output_type": "execute_result",
          "data": {
            "text/plain": [
              "0"
            ]
          },
          "metadata": {},
          "execution_count": 140
        }
      ]
    },
    {
      "cell_type": "code",
      "source": [
        "x = 5\n",
        "if x == 10:\n",
        "    print('10입니다.') \n",
        "else:\n",
        "print('x에 들어있는 숫자는')    # unexpected indent 에러 발생 \n",
        "    print('10이 아닙니다.')"
      ],
      "metadata": {
        "colab": {
          "base_uri": "https://localhost:8080/",
          "height": 138
        },
        "id": "Lmps6ku8J4ZD",
        "outputId": "2ae06d10-4a95-4175-9a77-3749bcdbd26b"
      },
      "execution_count": 141,
      "outputs": [
        {
          "output_type": "error",
          "ename": "IndentationError",
          "evalue": "ignored",
          "traceback": [
            "\u001b[0;36m  File \u001b[0;32m\"<ipython-input-141-a9d0257d6cfa>\"\u001b[0;36m, line \u001b[0;32m5\u001b[0m\n\u001b[0;31m    print('x에 들어있는 숫자는')    # unexpected indent 에러 발생\u001b[0m\n\u001b[0m        ^\u001b[0m\n\u001b[0;31mIndentationError\u001b[0m\u001b[0;31m:\u001b[0m expected an indented block\n"
          ]
        }
      ]
    },
    {
      "cell_type": "code",
      "source": [
        "if x == 10:\n",
        "    print('10입니다.') \n",
        "else:\n",
        "    print('x에 들어있는 숫자는')\n",
        "    print('10이 아닙니다.')"
      ],
      "metadata": {
        "colab": {
          "base_uri": "https://localhost:8080/"
        },
        "id": "PSaTCHIWJ4W_",
        "outputId": "8412a524-fd30-495a-f3d4-5da66b65cbeb"
      },
      "execution_count": 142,
      "outputs": [
        {
          "output_type": "stream",
          "name": "stdout",
          "text": [
            "x에 들어있는 숫자는\n",
            "10이 아닙니다.\n"
          ]
        }
      ]
    },
    {
      "cell_type": "code",
      "source": [
        "x = 10\n",
        "if x == 10:    # x가 10이라 조건식이 참\n",
        "    print('10입니다.')    # 출력\n",
        "else:\n",
        "     print('x에 들어있는 숫자는')\n",
        "print('10이 아닙니다.')    # 출력되지 않아야 하는데 출력됨"
      ],
      "metadata": {
        "colab": {
          "base_uri": "https://localhost:8080/"
        },
        "id": "AAbhvCiqJ4Ul",
        "outputId": "f8aba4ee-392c-4462-93e4-e5ef67edefd5"
      },
      "execution_count": 143,
      "outputs": [
        {
          "output_type": "stream",
          "name": "stdout",
          "text": [
            "10입니다.\n",
            "10이 아닙니다.\n"
          ]
        }
      ]
    },
    {
      "cell_type": "code",
      "source": [
        "x = 10\n",
        "if x == 10:    # x가 10이라 조건식이 참\n",
        "    print('10입니다.')\n",
        "else:\n",
        "    print('x에 들어있는 숫자는')\n",
        "print('10이 아닙니다.')"
      ],
      "metadata": {
        "colab": {
          "base_uri": "https://localhost:8080/"
        },
        "id": "C9cAFxISJ4SL",
        "outputId": "9cf5bdf5-67be-45c5-cfbf-ef26d0c98c24"
      },
      "execution_count": 144,
      "outputs": [
        {
          "output_type": "stream",
          "name": "stdout",
          "text": [
            "10입니다.\n",
            "10이 아닙니다.\n"
          ]
        }
      ]
    },
    {
      "cell_type": "code",
      "source": [
        "if True:\n",
        "    print('참')   \n",
        "else:\n",
        "    print('거짓')\n",
        "if False:\n",
        "    print('참')\n",
        "else:\n",
        "    print('거짓')   \n",
        "if None:\n",
        "    print('참')\n",
        "else:\n",
        "    print('거짓')   "
      ],
      "metadata": {
        "colab": {
          "base_uri": "https://localhost:8080/"
        },
        "id": "3opttNJGJ4N1",
        "outputId": "52f8c85d-12ae-44f1-f798-6dc5b9f6553c"
      },
      "execution_count": 145,
      "outputs": [
        {
          "output_type": "stream",
          "name": "stdout",
          "text": [
            "참\n",
            "거짓\n",
            "거짓\n"
          ]
        }
      ]
    },
    {
      "cell_type": "code",
      "source": [
        "if 0:\n",
        "    print('참')\n",
        "else:\n",
        "    print('거짓')    # 0은 거짓\n",
        "if 1:\n",
        "    print('참')    # 1은 참\n",
        "else:\n",
        "    print('거짓')\n",
        "if 0x1F:    # 16진수\n",
        "    print('참')    # 0x1F는 참\n",
        "else:\n",
        "    print('거짓')\n",
        "if 0b1000:    # 2진수\n",
        "    print('참')    # 0b1000은 참\n",
        "else:\n",
        "    print('거짓')\n",
        "if 13.5:    # 실수\n",
        "    print('참')    # 13.5는 참\n",
        "else:\n",
        "    print('거짓')"
      ],
      "metadata": {
        "colab": {
          "base_uri": "https://localhost:8080/"
        },
        "id": "fqdYwOIfJ4LS",
        "outputId": "23d519d4-9e9c-4a29-fbe3-956bb048a96b"
      },
      "execution_count": 146,
      "outputs": [
        {
          "output_type": "stream",
          "name": "stdout",
          "text": [
            "거짓\n",
            "참\n",
            "참\n",
            "참\n",
            "참\n"
          ]
        }
      ]
    },
    {
      "cell_type": "code",
      "source": [
        "if 'Hello':    # 문자열\n",
        "    print('참')    # 문자열은 참\n",
        "else:\n",
        "    print('거짓')\n",
        "if '':    # 빈 문자열\n",
        "    print('참')\n",
        "else:\n",
        "    print('거짓')    # 빈 문자열은 거짓"
      ],
      "metadata": {
        "colab": {
          "base_uri": "https://localhost:8080/"
        },
        "id": "WcWFYEzrJ4HX",
        "outputId": "c4b683e5-2b86-49e6-ce56-008698b971f1"
      },
      "execution_count": 147,
      "outputs": [
        {
          "output_type": "stream",
          "name": "stdout",
          "text": [
            "참\n",
            "거짓\n"
          ]
        }
      ]
    },
    {
      "cell_type": "code",
      "source": [
        "if not 0:\n",
        "    print('참')    # not 0은 참\n",
        "if not None:\n",
        "    print('참')    # None은 참\n",
        "if not '':\n",
        "    print('참')    # not 빈 문자열은 참"
      ],
      "metadata": {
        "colab": {
          "base_uri": "https://localhost:8080/"
        },
        "id": "NNpYE5OjKfCe",
        "outputId": "ad079a6c-66a4-4593-9ab0-4fa758a260b3"
      },
      "execution_count": 148,
      "outputs": [
        {
          "output_type": "stream",
          "name": "stdout",
          "text": [
            "참\n",
            "참\n",
            "참\n"
          ]
        }
      ]
    },
    {
      "cell_type": "code",
      "source": [
        "x = 10\n",
        "y = 20\n",
        "if x == 10 and y == 20:     # x가 10이면서 y가 20일 때\n",
        "    print('참')\n",
        "else:\n",
        "    print('거짓')"
      ],
      "metadata": {
        "colab": {
          "base_uri": "https://localhost:8080/"
        },
        "id": "tax36Vo5KfAR",
        "outputId": "cf93ab0b-4390-4fc5-8860-a666eb224db4"
      },
      "execution_count": 149,
      "outputs": [
        {
          "output_type": "stream",
          "name": "stdout",
          "text": [
            "참\n"
          ]
        }
      ]
    },
    {
      "cell_type": "code",
      "source": [
        "if x > 0:\n",
        "    if x < 20:\n",
        "        print('20보다 작은 양수입니다.')"
      ],
      "metadata": {
        "colab": {
          "base_uri": "https://localhost:8080/"
        },
        "id": "OUQR7O68Ke90",
        "outputId": "43d473ca-e5af-4d78-817f-526a789ce1b3"
      },
      "execution_count": 150,
      "outputs": [
        {
          "output_type": "stream",
          "name": "stdout",
          "text": [
            "20보다 작은 양수입니다.\n"
          ]
        }
      ]
    },
    {
      "cell_type": "code",
      "source": [
        "if x > 0 and x < 20:\n",
        "    print('20보다 작은 양수입니다.')"
      ],
      "metadata": {
        "colab": {
          "base_uri": "https://localhost:8080/"
        },
        "id": "urUkGmKQKe7f",
        "outputId": "114de54a-05f1-49cc-c42a-459f359d9b62"
      },
      "execution_count": 151,
      "outputs": [
        {
          "output_type": "stream",
          "name": "stdout",
          "text": [
            "20보다 작은 양수입니다.\n"
          ]
        }
      ]
    },
    {
      "cell_type": "code",
      "source": [
        "if 0 < x < 20:\n",
        "    print('20보다 작은 양수입니다.')"
      ],
      "metadata": {
        "colab": {
          "base_uri": "https://localhost:8080/"
        },
        "id": "tmbINbILKe5H",
        "outputId": "641ab59e-337c-46dd-a24c-e0c4e084e402"
      },
      "execution_count": 152,
      "outputs": [
        {
          "output_type": "stream",
          "name": "stdout",
          "text": [
            "20보다 작은 양수입니다.\n"
          ]
        }
      ]
    },
    {
      "cell_type": "code",
      "source": [
        "#14.6 연습문제\n",
        "written_test = 75\n",
        "coding_test = True\n",
        " \n",
        "if written_test >= 80 and coding_test == True:\n",
        "    print('합격')\n",
        "else:\n",
        "    print('불합격')"
      ],
      "metadata": {
        "colab": {
          "base_uri": "https://localhost:8080/"
        },
        "id": "pKs0_32qKe20",
        "outputId": "1c6b00af-f925-4437-e058-73114905b956"
      },
      "execution_count": 153,
      "outputs": [
        {
          "output_type": "stream",
          "name": "stdout",
          "text": [
            "불합격\n"
          ]
        }
      ]
    },
    {
      "cell_type": "code",
      "source": [
        "#14.7 심사문제\n",
        "a,b,c,d=map(int,input().split())\n",
        "if a>100 or a<0 or b>100 or b<0 or c>100 or c<0 or d>100 or d<0:\n",
        "  print('잘못된 점수')\n",
        "elif (a+b+c+d)/4>=80:\n",
        "  print('합격')\n",
        "else:\n",
        "  print('불합격')"
      ],
      "metadata": {
        "colab": {
          "base_uri": "https://localhost:8080/"
        },
        "id": "1WDSmsvbKezh",
        "outputId": "735a20c0-7d2a-4993-f61a-4b29fc8ef6dc"
      },
      "execution_count": 159,
      "outputs": [
        {
          "output_type": "stream",
          "name": "stdout",
          "text": [
            "99 85 101 90\n",
            "잘못된 점수\n"
          ]
        }
      ]
    },
    {
      "cell_type": "markdown",
      "source": [
        "#unit 15"
      ],
      "metadata": {
        "id": "TmUsJpGqOhj1"
      }
    },
    {
      "cell_type": "code",
      "source": [
        "x = 20\n",
        "if x == 10:\n",
        "     print('10입니다.')\n",
        "elif x == 20:\n",
        "     print('20입니다.')"
      ],
      "metadata": {
        "colab": {
          "base_uri": "https://localhost:8080/"
        },
        "id": "tSpG7x_IKevb",
        "outputId": "480411e5-034f-4f22-e67d-157c84424758"
      },
      "execution_count": 160,
      "outputs": [
        {
          "output_type": "stream",
          "name": "stdout",
          "text": [
            "20입니다.\n"
          ]
        }
      ]
    },
    {
      "cell_type": "code",
      "source": [
        "x = 30\n",
        "if x == 10:            \n",
        "    print('10입니다.')\n",
        "elif x == 20:         \n",
        "    print('20입니다.')\n",
        "else:                \n",
        "    print('10도 20도 아닙니다.')"
      ],
      "metadata": {
        "colab": {
          "base_uri": "https://localhost:8080/"
        },
        "id": "41E3jX2nKes8",
        "outputId": "89e3a526-0114-43b7-969b-82475552f637"
      },
      "execution_count": 161,
      "outputs": [
        {
          "output_type": "stream",
          "name": "stdout",
          "text": [
            "10도 20도 아닙니다.\n"
          ]
        }
      ]
    },
    {
      "cell_type": "code",
      "source": [
        "if x == 10:\n",
        "    print('10입니다.')\n",
        "else:\n",
        "    print('10도 20도 아닙니다.')\n",
        "elif x == 20:    # elif 앞에 else가 오면 잘못된 문법\n",
        "    print('20입니다.')"
      ],
      "metadata": {
        "colab": {
          "base_uri": "https://localhost:8080/",
          "height": 138
        },
        "id": "mGZ0fqw3Os4_",
        "outputId": "a816dc3d-96e3-46d1-c3e8-5aa48f5486cd"
      },
      "execution_count": 162,
      "outputs": [
        {
          "output_type": "error",
          "ename": "SyntaxError",
          "evalue": "ignored",
          "traceback": [
            "\u001b[0;36m  File \u001b[0;32m\"<ipython-input-162-83d8e8f7a0b8>\"\u001b[0;36m, line \u001b[0;32m5\u001b[0m\n\u001b[0;31m    elif x == 20:    # elif 앞에 else가 오면 잘못된 문법\u001b[0m\n\u001b[0m       ^\u001b[0m\n\u001b[0;31mSyntaxError\u001b[0m\u001b[0;31m:\u001b[0m invalid syntax\n"
          ]
        }
      ]
    },
    {
      "cell_type": "code",
      "source": [
        "button = int(input())\n",
        "if button == 1:\n",
        "    print('콜라')\n",
        "elif button == 2:\n",
        "    print('사이다')\n",
        "elif button == 3:\n",
        "    print('환타')\n",
        "else:\n",
        "    print('제공하지 않는 메뉴')"
      ],
      "metadata": {
        "colab": {
          "base_uri": "https://localhost:8080/"
        },
        "id": "tobbCUaAOs0v",
        "outputId": "b30b38c7-8500-472d-9062-889a7c59ea32"
      },
      "execution_count": 165,
      "outputs": [
        {
          "output_type": "stream",
          "name": "stdout",
          "text": [
            "1\n",
            "콜라\n"
          ]
        }
      ]
    },
    {
      "cell_type": "code",
      "source": [
        "#15.3 연습문제\n",
        "x = int(input())\n",
        "if 11 <= x <= 20:\n",
        "    print('11~20')\n",
        "elif 21 <= x <= 30:\n",
        "    print('21~30')\n",
        "else:\n",
        "    print('아무것도 해당하지 않음')"
      ],
      "metadata": {
        "colab": {
          "base_uri": "https://localhost:8080/"
        },
        "id": "K79QNsLZOsyN",
        "outputId": "9a082944-c9eb-4800-df38-10b6a942300e"
      },
      "execution_count": 166,
      "outputs": [
        {
          "output_type": "stream",
          "name": "stdout",
          "text": [
            "5\n",
            "아무것도 해당하지 않음\n"
          ]
        }
      ]
    },
    {
      "cell_type": "code",
      "source": [
        "#15.4 심사문제\n",
        "age = int(input())\n",
        "balance = 9000\n",
        "if age>=7 and age<=12:\n",
        "  balance-=650\n",
        "elif age>=13 and age<=18:\n",
        "  balance-=1050\n",
        "else:\n",
        "  balance-=1250\n",
        "print(balance)"
      ],
      "metadata": {
        "colab": {
          "base_uri": "https://localhost:8080/"
        },
        "id": "6VunuTG3Osv9",
        "outputId": "fc6969ce-2427-4711-d33d-5cd3cf407e09"
      },
      "execution_count": 171,
      "outputs": [
        {
          "output_type": "stream",
          "name": "stdout",
          "text": [
            "12\n",
            "8350\n"
          ]
        }
      ]
    },
    {
      "cell_type": "markdown",
      "source": [
        "#unit 16"
      ],
      "metadata": {
        "id": "9Qt_CPiDQnPd"
      }
    },
    {
      "cell_type": "code",
      "source": [],
      "metadata": {
        "id": "HVq6nASmOst4"
      },
      "execution_count": null,
      "outputs": []
    },
    {
      "cell_type": "code",
      "source": [],
      "metadata": {
        "id": "-XMzYyYLOspT"
      },
      "execution_count": null,
      "outputs": []
    },
    {
      "cell_type": "code",
      "source": [],
      "metadata": {
        "id": "y9qDSLvDOsm1"
      },
      "execution_count": null,
      "outputs": []
    },
    {
      "cell_type": "code",
      "source": [],
      "metadata": {
        "id": "zz8JPZ78Oskj"
      },
      "execution_count": null,
      "outputs": []
    },
    {
      "cell_type": "code",
      "source": [],
      "metadata": {
        "id": "KPbeTHeKOsiZ"
      },
      "execution_count": null,
      "outputs": []
    },
    {
      "cell_type": "code",
      "source": [],
      "metadata": {
        "id": "PikYjjjGOsfo"
      },
      "execution_count": null,
      "outputs": []
    }
  ]
}